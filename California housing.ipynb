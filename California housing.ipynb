{
 "cells": [
  {
   "cell_type": "markdown",
   "id": "yHXQZniSlMc3",
   "metadata": {
    "id": "yHXQZniSlMc3"
   },
   "source": [
    "### 환경 준비"
   ]
  },
  {
   "cell_type": "code",
   "execution_count": 7,
   "id": "ffa90324-451b-44b5-8eb8-f3e561060eb5",
   "metadata": {},
   "outputs": [
    {
     "name": "stdout",
     "output_type": "stream",
     "text": [
      "Collecting tensorflow\n",
      "  Downloading tensorflow-2.18.0-cp312-cp312-win_amd64.whl.metadata (3.3 kB)\n",
      "Collecting tensorflow-intel==2.18.0 (from tensorflow)\n",
      "  Downloading tensorflow_intel-2.18.0-cp312-cp312-win_amd64.whl.metadata (4.9 kB)\n",
      "Collecting absl-py>=1.0.0 (from tensorflow-intel==2.18.0->tensorflow)\n",
      "  Downloading absl_py-2.1.0-py3-none-any.whl.metadata (2.3 kB)\n",
      "Collecting astunparse>=1.6.0 (from tensorflow-intel==2.18.0->tensorflow)\n",
      "  Downloading astunparse-1.6.3-py2.py3-none-any.whl.metadata (4.4 kB)\n",
      "Collecting flatbuffers>=24.3.25 (from tensorflow-intel==2.18.0->tensorflow)\n",
      "  Downloading flatbuffers-25.1.24-py2.py3-none-any.whl.metadata (875 bytes)\n",
      "Collecting gast!=0.5.0,!=0.5.1,!=0.5.2,>=0.2.1 (from tensorflow-intel==2.18.0->tensorflow)\n",
      "  Downloading gast-0.6.0-py3-none-any.whl.metadata (1.3 kB)\n",
      "Collecting google-pasta>=0.1.1 (from tensorflow-intel==2.18.0->tensorflow)\n",
      "  Downloading google_pasta-0.2.0-py3-none-any.whl.metadata (814 bytes)\n",
      "Collecting libclang>=13.0.0 (from tensorflow-intel==2.18.0->tensorflow)\n",
      "  Downloading libclang-18.1.1-py2.py3-none-win_amd64.whl.metadata (5.3 kB)\n",
      "Collecting opt-einsum>=2.3.2 (from tensorflow-intel==2.18.0->tensorflow)\n",
      "  Downloading opt_einsum-3.4.0-py3-none-any.whl.metadata (6.3 kB)\n",
      "Requirement already satisfied: packaging in c:\\users\\moon\\anaconda3\\lib\\site-packages (from tensorflow-intel==2.18.0->tensorflow) (24.2)\n",
      "Requirement already satisfied: protobuf!=4.21.0,!=4.21.1,!=4.21.2,!=4.21.3,!=4.21.4,!=4.21.5,<6.0.0dev,>=3.20.3 in c:\\users\\moon\\anaconda3\\lib\\site-packages (from tensorflow-intel==2.18.0->tensorflow) (4.25.3)\n",
      "Requirement already satisfied: requests<3,>=2.21.0 in c:\\users\\moon\\anaconda3\\lib\\site-packages (from tensorflow-intel==2.18.0->tensorflow) (2.32.3)\n",
      "Requirement already satisfied: setuptools in c:\\users\\moon\\anaconda3\\lib\\site-packages (from tensorflow-intel==2.18.0->tensorflow) (75.8.0)\n",
      "Requirement already satisfied: six>=1.12.0 in c:\\users\\moon\\anaconda3\\lib\\site-packages (from tensorflow-intel==2.18.0->tensorflow) (1.16.0)\n",
      "Collecting termcolor>=1.1.0 (from tensorflow-intel==2.18.0->tensorflow)\n",
      "  Downloading termcolor-2.5.0-py3-none-any.whl.metadata (6.1 kB)\n",
      "Requirement already satisfied: typing-extensions>=3.6.6 in c:\\users\\moon\\anaconda3\\lib\\site-packages (from tensorflow-intel==2.18.0->tensorflow) (4.12.2)\n",
      "Requirement already satisfied: wrapt>=1.11.0 in c:\\users\\moon\\anaconda3\\lib\\site-packages (from tensorflow-intel==2.18.0->tensorflow) (1.17.0)\n",
      "Collecting grpcio<2.0,>=1.24.3 (from tensorflow-intel==2.18.0->tensorflow)\n",
      "  Downloading grpcio-1.70.0-cp312-cp312-win_amd64.whl.metadata (4.0 kB)\n",
      "Collecting tensorboard<2.19,>=2.18 (from tensorflow-intel==2.18.0->tensorflow)\n",
      "  Downloading tensorboard-2.18.0-py3-none-any.whl.metadata (1.6 kB)\n",
      "Collecting keras>=3.5.0 (from tensorflow-intel==2.18.0->tensorflow)\n",
      "  Downloading keras-3.8.0-py3-none-any.whl.metadata (5.8 kB)\n",
      "Requirement already satisfied: numpy<2.1.0,>=1.26.0 in c:\\users\\moon\\anaconda3\\lib\\site-packages (from tensorflow-intel==2.18.0->tensorflow) (1.26.4)\n",
      "Requirement already satisfied: h5py>=3.11.0 in c:\\users\\moon\\anaconda3\\lib\\site-packages (from tensorflow-intel==2.18.0->tensorflow) (3.12.1)\n",
      "Collecting ml-dtypes<0.5.0,>=0.4.0 (from tensorflow-intel==2.18.0->tensorflow)\n",
      "  Downloading ml_dtypes-0.4.1-cp312-cp312-win_amd64.whl.metadata (20 kB)\n",
      "Requirement already satisfied: wheel<1.0,>=0.23.0 in c:\\users\\moon\\anaconda3\\lib\\site-packages (from astunparse>=1.6.0->tensorflow-intel==2.18.0->tensorflow) (0.45.1)\n",
      "Requirement already satisfied: rich in c:\\users\\moon\\anaconda3\\lib\\site-packages (from keras>=3.5.0->tensorflow-intel==2.18.0->tensorflow) (13.9.4)\n",
      "Collecting namex (from keras>=3.5.0->tensorflow-intel==2.18.0->tensorflow)\n",
      "  Downloading namex-0.0.8-py3-none-any.whl.metadata (246 bytes)\n",
      "Collecting optree (from keras>=3.5.0->tensorflow-intel==2.18.0->tensorflow)\n",
      "  Downloading optree-0.14.0-cp312-cp312-win_amd64.whl.metadata (48 kB)\n",
      "Requirement already satisfied: charset-normalizer<4,>=2 in c:\\users\\moon\\anaconda3\\lib\\site-packages (from requests<3,>=2.21.0->tensorflow-intel==2.18.0->tensorflow) (3.3.2)\n",
      "Requirement already satisfied: idna<4,>=2.5 in c:\\users\\moon\\anaconda3\\lib\\site-packages (from requests<3,>=2.21.0->tensorflow-intel==2.18.0->tensorflow) (3.7)\n",
      "Requirement already satisfied: urllib3<3,>=1.21.1 in c:\\users\\moon\\anaconda3\\lib\\site-packages (from requests<3,>=2.21.0->tensorflow-intel==2.18.0->tensorflow) (2.3.0)\n",
      "Requirement already satisfied: certifi>=2017.4.17 in c:\\users\\moon\\anaconda3\\lib\\site-packages (from requests<3,>=2.21.0->tensorflow-intel==2.18.0->tensorflow) (2025.1.31)\n",
      "Requirement already satisfied: markdown>=2.6.8 in c:\\users\\moon\\anaconda3\\lib\\site-packages (from tensorboard<2.19,>=2.18->tensorflow-intel==2.18.0->tensorflow) (3.4.1)\n",
      "Collecting tensorboard-data-server<0.8.0,>=0.7.0 (from tensorboard<2.19,>=2.18->tensorflow-intel==2.18.0->tensorflow)\n",
      "  Downloading tensorboard_data_server-0.7.2-py3-none-any.whl.metadata (1.1 kB)\n",
      "Requirement already satisfied: werkzeug>=1.0.1 in c:\\users\\moon\\anaconda3\\lib\\site-packages (from tensorboard<2.19,>=2.18->tensorflow-intel==2.18.0->tensorflow) (3.1.3)\n",
      "Requirement already satisfied: MarkupSafe>=2.1.1 in c:\\users\\moon\\anaconda3\\lib\\site-packages (from werkzeug>=1.0.1->tensorboard<2.19,>=2.18->tensorflow-intel==2.18.0->tensorflow) (3.0.2)\n",
      "Requirement already satisfied: markdown-it-py>=2.2.0 in c:\\users\\moon\\anaconda3\\lib\\site-packages (from rich->keras>=3.5.0->tensorflow-intel==2.18.0->tensorflow) (2.2.0)\n",
      "Requirement already satisfied: pygments<3.0.0,>=2.13.0 in c:\\users\\moon\\anaconda3\\lib\\site-packages (from rich->keras>=3.5.0->tensorflow-intel==2.18.0->tensorflow) (2.15.1)\n",
      "Requirement already satisfied: mdurl~=0.1 in c:\\users\\moon\\anaconda3\\lib\\site-packages (from markdown-it-py>=2.2.0->rich->keras>=3.5.0->tensorflow-intel==2.18.0->tensorflow) (0.1.0)\n",
      "Downloading tensorflow-2.18.0-cp312-cp312-win_amd64.whl (7.5 kB)\n",
      "Downloading tensorflow_intel-2.18.0-cp312-cp312-win_amd64.whl (390.3 MB)\n",
      "   ---------------------------------------- 0.0/390.3 MB ? eta -:--:--\n",
      "   ---------------------------------------- 2.4/390.3 MB 11.2 MB/s eta 0:00:35\n",
      "    --------------------------------------- 5.0/390.3 MB 12.1 MB/s eta 0:00:32\n",
      "    --------------------------------------- 7.6/390.3 MB 12.1 MB/s eta 0:00:32\n",
      "   - -------------------------------------- 10.2/390.3 MB 12.3 MB/s eta 0:00:31\n",
      "   - -------------------------------------- 12.6/390.3 MB 12.1 MB/s eta 0:00:32\n",
      "   - -------------------------------------- 13.6/390.3 MB 10.8 MB/s eta 0:00:35\n",
      "   - -------------------------------------- 14.9/390.3 MB 10.3 MB/s eta 0:00:37\n",
      "   - -------------------------------------- 16.8/390.3 MB 10.1 MB/s eta 0:00:38\n",
      "   - -------------------------------------- 18.9/390.3 MB 10.0 MB/s eta 0:00:38\n",
      "   -- ------------------------------------- 21.2/390.3 MB 10.1 MB/s eta 0:00:37\n",
      "   -- ------------------------------------- 23.6/390.3 MB 10.2 MB/s eta 0:00:37\n",
      "   -- ------------------------------------- 26.0/390.3 MB 10.3 MB/s eta 0:00:36\n",
      "   -- ------------------------------------- 28.6/390.3 MB 10.4 MB/s eta 0:00:35\n",
      "   --- ------------------------------------ 30.9/390.3 MB 10.5 MB/s eta 0:00:35\n",
      "   --- ------------------------------------ 33.0/390.3 MB 10.5 MB/s eta 0:00:35\n",
      "   --- ------------------------------------ 35.7/390.3 MB 10.6 MB/s eta 0:00:34\n",
      "   --- ------------------------------------ 38.3/390.3 MB 10.7 MB/s eta 0:00:33\n",
      "   ---- ----------------------------------- 40.9/390.3 MB 10.8 MB/s eta 0:00:33\n",
      "   ---- ----------------------------------- 42.2/390.3 MB 10.7 MB/s eta 0:00:33\n",
      "   ---- ----------------------------------- 44.3/390.3 MB 10.6 MB/s eta 0:00:33\n",
      "   ---- ----------------------------------- 46.9/390.3 MB 10.6 MB/s eta 0:00:33\n",
      "   ----- ---------------------------------- 49.5/390.3 MB 10.7 MB/s eta 0:00:32\n",
      "   ----- ---------------------------------- 52.2/390.3 MB 10.8 MB/s eta 0:00:32\n",
      "   ----- ---------------------------------- 54.8/390.3 MB 10.9 MB/s eta 0:00:31\n",
      "   ----- ---------------------------------- 57.4/390.3 MB 10.9 MB/s eta 0:00:31\n",
      "   ------ --------------------------------- 60.0/390.3 MB 11.0 MB/s eta 0:00:31\n",
      "   ------ --------------------------------- 62.7/390.3 MB 11.0 MB/s eta 0:00:30\n",
      "   ------ --------------------------------- 65.3/390.3 MB 11.1 MB/s eta 0:00:30\n",
      "   ------ --------------------------------- 67.9/390.3 MB 11.1 MB/s eta 0:00:29\n",
      "   ------- -------------------------------- 70.5/390.3 MB 11.2 MB/s eta 0:00:29\n",
      "   ------- -------------------------------- 73.1/390.3 MB 11.2 MB/s eta 0:00:29\n",
      "   ------- -------------------------------- 75.8/390.3 MB 11.2 MB/s eta 0:00:28\n",
      "   ------- -------------------------------- 77.1/390.3 MB 11.1 MB/s eta 0:00:29\n",
      "   -------- ------------------------------- 78.4/390.3 MB 11.0 MB/s eta 0:00:29\n",
      "   -------- ------------------------------- 80.0/390.3 MB 10.8 MB/s eta 0:00:29\n",
      "   -------- ------------------------------- 81.8/390.3 MB 10.8 MB/s eta 0:00:29\n",
      "   -------- ------------------------------- 83.9/390.3 MB 10.8 MB/s eta 0:00:29\n",
      "   -------- ------------------------------- 86.5/390.3 MB 10.8 MB/s eta 0:00:29\n",
      "   --------- ------------------------------ 87.8/390.3 MB 10.7 MB/s eta 0:00:29\n",
      "   --------- ------------------------------ 90.4/390.3 MB 10.7 MB/s eta 0:00:28\n",
      "   --------- ------------------------------ 92.8/390.3 MB 10.7 MB/s eta 0:00:28\n",
      "   --------- ------------------------------ 95.4/390.3 MB 10.8 MB/s eta 0:00:28\n",
      "   ---------- ----------------------------- 98.0/390.3 MB 10.8 MB/s eta 0:00:27\n",
      "   ---------- ---------------------------- 100.7/390.3 MB 10.9 MB/s eta 0:00:27\n",
      "   ---------- ---------------------------- 103.3/390.3 MB 10.9 MB/s eta 0:00:27\n",
      "   ---------- ---------------------------- 105.9/390.3 MB 10.9 MB/s eta 0:00:27\n",
      "   ---------- ---------------------------- 108.3/390.3 MB 10.9 MB/s eta 0:00:26\n",
      "   ----------- --------------------------- 110.9/390.3 MB 10.9 MB/s eta 0:00:26\n",
      "   ----------- --------------------------- 113.5/390.3 MB 11.0 MB/s eta 0:00:26\n",
      "   ----------- --------------------------- 116.1/390.3 MB 11.0 MB/s eta 0:00:25\n",
      "   ----------- --------------------------- 118.8/390.3 MB 11.0 MB/s eta 0:00:25\n",
      "   ------------ -------------------------- 121.1/390.3 MB 11.0 MB/s eta 0:00:25\n",
      "   ------------ -------------------------- 123.7/390.3 MB 11.1 MB/s eta 0:00:25\n",
      "   ------------ -------------------------- 126.4/390.3 MB 11.1 MB/s eta 0:00:24\n",
      "   ------------ -------------------------- 129.0/390.3 MB 11.1 MB/s eta 0:00:24\n",
      "   ------------- ------------------------- 131.6/390.3 MB 11.1 MB/s eta 0:00:24\n",
      "   ------------- ------------------------- 134.2/390.3 MB 11.2 MB/s eta 0:00:23\n",
      "   ------------- ------------------------- 136.8/390.3 MB 11.2 MB/s eta 0:00:23\n",
      "   ------------- ------------------------- 139.5/390.3 MB 11.2 MB/s eta 0:00:23\n",
      "   -------------- ------------------------ 142.1/390.3 MB 11.2 MB/s eta 0:00:23\n",
      "   -------------- ------------------------ 144.7/390.3 MB 11.2 MB/s eta 0:00:22\n",
      "   -------------- ------------------------ 147.3/390.3 MB 11.3 MB/s eta 0:00:22\n",
      "   -------------- ------------------------ 148.9/390.3 MB 11.2 MB/s eta 0:00:22\n",
      "   --------------- ----------------------- 150.2/390.3 MB 11.1 MB/s eta 0:00:22\n",
      "   --------------- ----------------------- 152.0/390.3 MB 11.1 MB/s eta 0:00:22\n",
      "   --------------- ----------------------- 154.1/390.3 MB 11.1 MB/s eta 0:00:22\n",
      "   --------------- ----------------------- 156.5/390.3 MB 11.1 MB/s eta 0:00:22\n",
      "   --------------- ----------------------- 159.1/390.3 MB 11.1 MB/s eta 0:00:21\n",
      "   ---------------- ---------------------- 161.7/390.3 MB 11.1 MB/s eta 0:00:21\n",
      "   ---------------- ---------------------- 164.4/390.3 MB 11.1 MB/s eta 0:00:21\n",
      "   ---------------- ---------------------- 166.7/390.3 MB 11.1 MB/s eta 0:00:21\n",
      "   ---------------- ---------------------- 169.3/390.3 MB 11.2 MB/s eta 0:00:20\n",
      "   ----------------- --------------------- 172.0/390.3 MB 11.2 MB/s eta 0:00:20\n",
      "   ----------------- --------------------- 174.6/390.3 MB 11.2 MB/s eta 0:00:20\n",
      "   ----------------- --------------------- 177.2/390.3 MB 11.2 MB/s eta 0:00:20\n",
      "   ----------------- --------------------- 179.8/390.3 MB 11.2 MB/s eta 0:00:19\n",
      "   ------------------ -------------------- 182.5/390.3 MB 11.2 MB/s eta 0:00:19\n",
      "   ------------------ -------------------- 185.1/390.3 MB 11.3 MB/s eta 0:00:19\n",
      "   ------------------ -------------------- 187.7/390.3 MB 11.3 MB/s eta 0:00:18\n",
      "   ------------------ -------------------- 189.3/390.3 MB 11.2 MB/s eta 0:00:18\n",
      "   ------------------- ------------------- 191.9/390.3 MB 11.2 MB/s eta 0:00:18\n",
      "   ------------------- ------------------- 194.5/390.3 MB 11.2 MB/s eta 0:00:18\n",
      "   ------------------- ------------------- 196.9/390.3 MB 11.2 MB/s eta 0:00:18\n",
      "   ------------------- ------------------- 199.5/390.3 MB 11.3 MB/s eta 0:00:17\n",
      "   -------------------- ------------------ 202.1/390.3 MB 11.3 MB/s eta 0:00:17\n",
      "   -------------------- ------------------ 204.7/390.3 MB 11.3 MB/s eta 0:00:17\n",
      "   -------------------- ------------------ 207.4/390.3 MB 11.3 MB/s eta 0:00:17\n",
      "   -------------------- ------------------ 210.0/390.3 MB 11.3 MB/s eta 0:00:16\n",
      "   --------------------- ----------------- 212.3/390.3 MB 11.3 MB/s eta 0:00:16\n",
      "   --------------------- ----------------- 215.0/390.3 MB 11.3 MB/s eta 0:00:16\n",
      "   --------------------- ----------------- 216.3/390.3 MB 11.3 MB/s eta 0:00:16\n",
      "   --------------------- ----------------- 217.8/390.3 MB 11.2 MB/s eta 0:00:16\n",
      "   --------------------- ----------------- 219.7/390.3 MB 11.2 MB/s eta 0:00:16\n",
      "   ---------------------- ---------------- 221.5/390.3 MB 11.2 MB/s eta 0:00:16\n",
      "   ---------------------- ---------------- 223.1/390.3 MB 11.1 MB/s eta 0:00:16\n",
      "   ---------------------- ---------------- 225.7/390.3 MB 11.1 MB/s eta 0:00:15\n",
      "   ---------------------- ---------------- 228.1/390.3 MB 11.1 MB/s eta 0:00:15\n",
      "   ----------------------- --------------- 230.7/390.3 MB 11.2 MB/s eta 0:00:15\n",
      "   ----------------------- --------------- 233.3/390.3 MB 11.2 MB/s eta 0:00:15\n",
      "   ----------------------- --------------- 235.9/390.3 MB 11.2 MB/s eta 0:00:14\n",
      "   ----------------------- --------------- 238.6/390.3 MB 11.2 MB/s eta 0:00:14\n",
      "   ------------------------ -------------- 241.2/390.3 MB 11.2 MB/s eta 0:00:14\n",
      "   ------------------------ -------------- 243.8/390.3 MB 11.2 MB/s eta 0:00:14\n",
      "   ------------------------ -------------- 246.4/390.3 MB 11.2 MB/s eta 0:00:13\n",
      "   ------------------------ -------------- 249.0/390.3 MB 11.2 MB/s eta 0:00:13\n",
      "   ------------------------- ------------- 251.7/390.3 MB 11.3 MB/s eta 0:00:13\n",
      "   ------------------------- ------------- 254.3/390.3 MB 11.3 MB/s eta 0:00:13\n",
      "   ------------------------- ------------- 256.9/390.3 MB 11.3 MB/s eta 0:00:12\n",
      "   ------------------------- ------------- 259.5/390.3 MB 11.3 MB/s eta 0:00:12\n",
      "   -------------------------- ------------ 262.1/390.3 MB 11.3 MB/s eta 0:00:12\n",
      "   -------------------------- ------------ 264.8/390.3 MB 11.3 MB/s eta 0:00:12\n",
      "   -------------------------- ------------ 267.4/390.3 MB 11.3 MB/s eta 0:00:11\n",
      "   -------------------------- ------------ 270.0/390.3 MB 11.3 MB/s eta 0:00:11\n",
      "   --------------------------- ----------- 272.6/390.3 MB 11.3 MB/s eta 0:00:11\n",
      "   --------------------------- ----------- 275.3/390.3 MB 11.4 MB/s eta 0:00:11\n",
      "   --------------------------- ----------- 277.9/390.3 MB 11.4 MB/s eta 0:00:10\n",
      "   ---------------------------- ---------- 280.5/390.3 MB 11.5 MB/s eta 0:00:10\n",
      "   ---------------------------- ---------- 282.1/390.3 MB 11.5 MB/s eta 0:00:10\n",
      "   ---------------------------- ---------- 283.9/390.3 MB 11.4 MB/s eta 0:00:10\n",
      "   ---------------------------- ---------- 286.0/390.3 MB 11.4 MB/s eta 0:00:10\n",
      "   ---------------------------- ---------- 288.6/390.3 MB 11.4 MB/s eta 0:00:09\n",
      "   ----------------------------- --------- 291.2/390.3 MB 11.4 MB/s eta 0:00:09\n",
      "   ----------------------------- --------- 293.9/390.3 MB 11.4 MB/s eta 0:00:09\n",
      "   ----------------------------- --------- 296.2/390.3 MB 11.4 MB/s eta 0:00:09\n",
      "   ----------------------------- --------- 298.8/390.3 MB 11.4 MB/s eta 0:00:09\n",
      "   ------------------------------ -------- 301.5/390.3 MB 11.4 MB/s eta 0:00:08\n",
      "   ------------------------------ -------- 304.1/390.3 MB 11.4 MB/s eta 0:00:08\n",
      "   ------------------------------ -------- 306.7/390.3 MB 11.5 MB/s eta 0:00:08\n",
      "   ------------------------------ -------- 309.3/390.3 MB 11.5 MB/s eta 0:00:08\n",
      "   ------------------------------- ------- 312.0/390.3 MB 11.5 MB/s eta 0:00:07\n",
      "   ------------------------------- ------- 314.6/390.3 MB 11.5 MB/s eta 0:00:07\n",
      "   ------------------------------- ------- 317.2/390.3 MB 11.5 MB/s eta 0:00:07\n",
      "   ------------------------------- ------- 319.8/390.3 MB 11.5 MB/s eta 0:00:07\n",
      "   -------------------------------- ------ 322.4/390.3 MB 11.5 MB/s eta 0:00:06\n",
      "   -------------------------------- ------ 325.1/390.3 MB 11.5 MB/s eta 0:00:06\n",
      "   -------------------------------- ------ 327.7/390.3 MB 11.5 MB/s eta 0:00:06\n",
      "   --------------------------------- ----- 330.3/390.3 MB 11.5 MB/s eta 0:00:06\n",
      "   --------------------------------- ----- 332.9/390.3 MB 11.5 MB/s eta 0:00:05\n",
      "   --------------------------------- ----- 335.5/390.3 MB 11.5 MB/s eta 0:00:05\n",
      "   --------------------------------- ----- 338.2/390.3 MB 11.5 MB/s eta 0:00:05\n",
      "   ---------------------------------- ---- 340.8/390.3 MB 11.6 MB/s eta 0:00:05\n",
      "   ---------------------------------- ---- 343.4/390.3 MB 11.7 MB/s eta 0:00:05\n",
      "   ---------------------------------- ---- 345.8/390.3 MB 11.7 MB/s eta 0:00:04\n",
      "   ---------------------------------- ---- 347.9/390.3 MB 11.7 MB/s eta 0:00:04\n",
      "   ----------------------------------- --- 350.5/390.3 MB 11.7 MB/s eta 0:00:04\n",
      "   ----------------------------------- --- 353.1/390.3 MB 11.7 MB/s eta 0:00:04\n",
      "   ----------------------------------- --- 355.5/390.3 MB 11.7 MB/s eta 0:00:03\n",
      "   ----------------------------------- --- 357.6/390.3 MB 11.7 MB/s eta 0:00:03\n",
      "   ----------------------------------- --- 358.6/390.3 MB 11.6 MB/s eta 0:00:03\n",
      "   ------------------------------------ -- 360.7/390.3 MB 11.6 MB/s eta 0:00:03\n",
      "   ------------------------------------ -- 363.1/390.3 MB 11.6 MB/s eta 0:00:03\n",
      "   ------------------------------------ -- 365.4/390.3 MB 11.6 MB/s eta 0:00:03\n",
      "   ------------------------------------ -- 368.1/390.3 MB 11.6 MB/s eta 0:00:02\n",
      "   ------------------------------------- - 370.7/390.3 MB 11.6 MB/s eta 0:00:02\n",
      "   ------------------------------------- - 373.3/390.3 MB 11.6 MB/s eta 0:00:02\n",
      "   ------------------------------------- - 375.7/390.3 MB 11.6 MB/s eta 0:00:02\n",
      "   ------------------------------------- - 378.3/390.3 MB 11.6 MB/s eta 0:00:02\n",
      "   --------------------------------------  380.9/390.3 MB 11.6 MB/s eta 0:00:01\n",
      "   --------------------------------------  383.5/390.3 MB 11.6 MB/s eta 0:00:01\n",
      "   --------------------------------------  386.1/390.3 MB 11.6 MB/s eta 0:00:01\n",
      "   --------------------------------------  388.5/390.3 MB 11.6 MB/s eta 0:00:01\n",
      "   --------------------------------------  390.1/390.3 MB 11.6 MB/s eta 0:00:01\n",
      "   --------------------------------------  390.1/390.3 MB 11.6 MB/s eta 0:00:01\n",
      "   --------------------------------------  390.1/390.3 MB 11.6 MB/s eta 0:00:01\n",
      "   --------------------------------------  390.1/390.3 MB 11.6 MB/s eta 0:00:01\n",
      "   --------------------------------------  390.1/390.3 MB 11.6 MB/s eta 0:00:01\n",
      "   --------------------------------------- 390.3/390.3 MB 11.1 MB/s eta 0:00:00\n",
      "Downloading absl_py-2.1.0-py3-none-any.whl (133 kB)\n",
      "Downloading astunparse-1.6.3-py2.py3-none-any.whl (12 kB)\n",
      "Downloading flatbuffers-25.1.24-py2.py3-none-any.whl (30 kB)\n",
      "Downloading gast-0.6.0-py3-none-any.whl (21 kB)\n",
      "Downloading google_pasta-0.2.0-py3-none-any.whl (57 kB)\n",
      "Downloading grpcio-1.70.0-cp312-cp312-win_amd64.whl (4.3 MB)\n",
      "   ---------------------------------------- 0.0/4.3 MB ? eta -:--:--\n",
      "   --------------------- ------------------ 2.4/4.3 MB 13.4 MB/s eta 0:00:01\n",
      "   ---------------------------------------- 4.3/4.3 MB 11.8 MB/s eta 0:00:00\n",
      "Downloading keras-3.8.0-py3-none-any.whl (1.3 MB)\n",
      "   ---------------------------------------- 0.0/1.3 MB ? eta -:--:--\n",
      "   ---------------------------------------- 1.3/1.3 MB 11.2 MB/s eta 0:00:00\n",
      "Downloading libclang-18.1.1-py2.py3-none-win_amd64.whl (26.4 MB)\n",
      "   ---------------------------------------- 0.0/26.4 MB ? eta -:--:--\n",
      "   --- ------------------------------------ 2.6/26.4 MB 12.6 MB/s eta 0:00:02\n",
      "   ------- -------------------------------- 5.0/26.4 MB 12.1 MB/s eta 0:00:02\n",
      "   ----------- ---------------------------- 7.6/26.4 MB 12.4 MB/s eta 0:00:02\n",
      "   --------------- ------------------------ 10.2/26.4 MB 12.3 MB/s eta 0:00:02\n",
      "   ------------------- -------------------- 12.8/26.4 MB 12.4 MB/s eta 0:00:02\n",
      "   ---------------------- ----------------- 14.7/26.4 MB 11.8 MB/s eta 0:00:01\n",
      "   ----------------------- ---------------- 15.7/26.4 MB 10.9 MB/s eta 0:00:01\n",
      "   -------------------------- ------------- 17.3/26.4 MB 10.4 MB/s eta 0:00:01\n",
      "   ---------------------------- ----------- 19.1/26.4 MB 10.2 MB/s eta 0:00:01\n",
      "   -------------------------------- ------- 21.2/26.4 MB 10.1 MB/s eta 0:00:01\n",
      "   ----------------------------------- ---- 23.6/26.4 MB 10.2 MB/s eta 0:00:01\n",
      "   ---------------------------------------  26.2/26.4 MB 10.4 MB/s eta 0:00:01\n",
      "   ---------------------------------------- 26.4/26.4 MB 10.0 MB/s eta 0:00:00\n",
      "Downloading ml_dtypes-0.4.1-cp312-cp312-win_amd64.whl (127 kB)\n",
      "Downloading opt_einsum-3.4.0-py3-none-any.whl (71 kB)\n",
      "Downloading tensorboard-2.18.0-py3-none-any.whl (5.5 MB)\n",
      "   ---------------------------------------- 0.0/5.5 MB ? eta -:--:--\n",
      "   ----------------- ---------------------- 2.4/5.5 MB 11.2 MB/s eta 0:00:01\n",
      "   ------------------------------------ --- 5.0/5.5 MB 11.6 MB/s eta 0:00:01\n",
      "   ---------------------------------------- 5.5/5.5 MB 11.2 MB/s eta 0:00:00\n",
      "Downloading termcolor-2.5.0-py3-none-any.whl (7.8 kB)\n",
      "Downloading tensorboard_data_server-0.7.2-py3-none-any.whl (2.4 kB)\n",
      "Downloading namex-0.0.8-py3-none-any.whl (5.8 kB)\n",
      "Downloading optree-0.14.0-cp312-cp312-win_amd64.whl (299 kB)\n",
      "Installing collected packages: namex, libclang, flatbuffers, termcolor, tensorboard-data-server, optree, opt-einsum, ml-dtypes, grpcio, google-pasta, gast, astunparse, absl-py, tensorboard, keras, tensorflow-intel, tensorflow\n",
      "Successfully installed absl-py-2.1.0 astunparse-1.6.3 flatbuffers-25.1.24 gast-0.6.0 google-pasta-0.2.0 grpcio-1.70.0 keras-3.8.0 libclang-18.1.1 ml-dtypes-0.4.1 namex-0.0.8 opt-einsum-3.4.0 optree-0.14.0 tensorboard-2.18.0 tensorboard-data-server-0.7.2 tensorflow-2.18.0 tensorflow-intel-2.18.0 termcolor-2.5.0\n"
     ]
    }
   ],
   "source": [
    "!pip install tensorflow"
   ]
  },
  {
   "cell_type": "code",
   "execution_count": 45,
   "id": "_oAwpN4NlLpo",
   "metadata": {
    "executionInfo": {
     "elapsed": 12513,
     "status": "ok",
     "timestamp": 1724081180267,
     "user": {
      "displayName": "김도형",
      "userId": "11727377734619343247"
     },
     "user_tz": -540
    },
    "id": "_oAwpN4NlLpo"
   },
   "outputs": [],
   "source": [
    "import tensorflow as tf\n",
    "tf.keras.utils.set_random_seed(20640)\n",
    "tf.config.experimental.enable_op_determinism()"
   ]
  },
  {
   "cell_type": "code",
   "execution_count": 46,
   "id": "zF189y-ZlRU_",
   "metadata": {
    "executionInfo": {
     "elapsed": 2039,
     "status": "ok",
     "timestamp": 1724081182296,
     "user": {
      "displayName": "김도형",
      "userId": "11727377734619343247"
     },
     "user_tz": -540
    },
    "id": "zF189y-ZlRU_"
   },
   "outputs": [],
   "source": [
    "import matplotlib.pyplot as plt\n",
    "import seaborn as sns\n",
    "import numpy as np\n",
    "import pandas as pd"
   ]
  },
  {
   "cell_type": "markdown",
   "id": "b2e21b2a",
   "metadata": {
    "id": "b2e21b2a"
   },
   "source": [
    "### 데이터 준비하기"
   ]
  },
  {
   "cell_type": "code",
   "execution_count": 47,
   "id": "BdnmGzdtlnRM",
   "metadata": {
    "colab": {
     "base_uri": "https://localhost:8080/",
     "height": 569
    },
    "executionInfo": {
     "elapsed": 723,
     "status": "ok",
     "timestamp": 1724081183437,
     "user": {
      "displayName": "김도형",
      "userId": "11727377734619343247"
     },
     "user_tz": -540
    },
    "id": "BdnmGzdtlnRM",
    "outputId": "b26656aa-9b03-4883-f22a-8ff4796f53e3"
   },
   "outputs": [
    {
     "data": {
      "text/html": [
       "<div>\n",
       "<style scoped>\n",
       "    .dataframe tbody tr th:only-of-type {\n",
       "        vertical-align: middle;\n",
       "    }\n",
       "\n",
       "    .dataframe tbody tr th {\n",
       "        vertical-align: top;\n",
       "    }\n",
       "\n",
       "    .dataframe thead th {\n",
       "        text-align: right;\n",
       "    }\n",
       "</style>\n",
       "<table border=\"1\" class=\"dataframe\">\n",
       "  <thead>\n",
       "    <tr style=\"text-align: right;\">\n",
       "      <th></th>\n",
       "      <th>MedInc</th>\n",
       "      <th>HouseAge</th>\n",
       "      <th>AveRooms</th>\n",
       "      <th>AveBedrms</th>\n",
       "      <th>Population</th>\n",
       "      <th>AveOccup</th>\n",
       "      <th>Latitude</th>\n",
       "      <th>Longitude</th>\n",
       "      <th>MedHouseVal</th>\n",
       "    </tr>\n",
       "  </thead>\n",
       "  <tbody>\n",
       "    <tr>\n",
       "      <th>0</th>\n",
       "      <td>8.3252</td>\n",
       "      <td>41.0</td>\n",
       "      <td>6.984127</td>\n",
       "      <td>1.023810</td>\n",
       "      <td>322.0</td>\n",
       "      <td>2.555556</td>\n",
       "      <td>37.88</td>\n",
       "      <td>-122.23</td>\n",
       "      <td>4.526</td>\n",
       "    </tr>\n",
       "    <tr>\n",
       "      <th>1</th>\n",
       "      <td>8.3014</td>\n",
       "      <td>21.0</td>\n",
       "      <td>6.238137</td>\n",
       "      <td>0.971880</td>\n",
       "      <td>2401.0</td>\n",
       "      <td>2.109842</td>\n",
       "      <td>37.86</td>\n",
       "      <td>-122.22</td>\n",
       "      <td>3.585</td>\n",
       "    </tr>\n",
       "    <tr>\n",
       "      <th>2</th>\n",
       "      <td>7.2574</td>\n",
       "      <td>52.0</td>\n",
       "      <td>8.288136</td>\n",
       "      <td>1.073446</td>\n",
       "      <td>496.0</td>\n",
       "      <td>2.802260</td>\n",
       "      <td>37.85</td>\n",
       "      <td>-122.24</td>\n",
       "      <td>3.521</td>\n",
       "    </tr>\n",
       "    <tr>\n",
       "      <th>3</th>\n",
       "      <td>5.6431</td>\n",
       "      <td>52.0</td>\n",
       "      <td>5.817352</td>\n",
       "      <td>1.073059</td>\n",
       "      <td>558.0</td>\n",
       "      <td>2.547945</td>\n",
       "      <td>37.85</td>\n",
       "      <td>-122.25</td>\n",
       "      <td>3.413</td>\n",
       "    </tr>\n",
       "    <tr>\n",
       "      <th>4</th>\n",
       "      <td>3.8462</td>\n",
       "      <td>52.0</td>\n",
       "      <td>6.281853</td>\n",
       "      <td>1.081081</td>\n",
       "      <td>565.0</td>\n",
       "      <td>2.181467</td>\n",
       "      <td>37.85</td>\n",
       "      <td>-122.25</td>\n",
       "      <td>3.422</td>\n",
       "    </tr>\n",
       "    <tr>\n",
       "      <th>...</th>\n",
       "      <td>...</td>\n",
       "      <td>...</td>\n",
       "      <td>...</td>\n",
       "      <td>...</td>\n",
       "      <td>...</td>\n",
       "      <td>...</td>\n",
       "      <td>...</td>\n",
       "      <td>...</td>\n",
       "      <td>...</td>\n",
       "    </tr>\n",
       "    <tr>\n",
       "      <th>20635</th>\n",
       "      <td>1.5603</td>\n",
       "      <td>25.0</td>\n",
       "      <td>5.045455</td>\n",
       "      <td>1.133333</td>\n",
       "      <td>845.0</td>\n",
       "      <td>2.560606</td>\n",
       "      <td>39.48</td>\n",
       "      <td>-121.09</td>\n",
       "      <td>0.781</td>\n",
       "    </tr>\n",
       "    <tr>\n",
       "      <th>20636</th>\n",
       "      <td>2.5568</td>\n",
       "      <td>18.0</td>\n",
       "      <td>6.114035</td>\n",
       "      <td>1.315789</td>\n",
       "      <td>356.0</td>\n",
       "      <td>3.122807</td>\n",
       "      <td>39.49</td>\n",
       "      <td>-121.21</td>\n",
       "      <td>0.771</td>\n",
       "    </tr>\n",
       "    <tr>\n",
       "      <th>20637</th>\n",
       "      <td>1.7000</td>\n",
       "      <td>17.0</td>\n",
       "      <td>5.205543</td>\n",
       "      <td>1.120092</td>\n",
       "      <td>1007.0</td>\n",
       "      <td>2.325635</td>\n",
       "      <td>39.43</td>\n",
       "      <td>-121.22</td>\n",
       "      <td>0.923</td>\n",
       "    </tr>\n",
       "    <tr>\n",
       "      <th>20638</th>\n",
       "      <td>1.8672</td>\n",
       "      <td>18.0</td>\n",
       "      <td>5.329513</td>\n",
       "      <td>1.171920</td>\n",
       "      <td>741.0</td>\n",
       "      <td>2.123209</td>\n",
       "      <td>39.43</td>\n",
       "      <td>-121.32</td>\n",
       "      <td>0.847</td>\n",
       "    </tr>\n",
       "    <tr>\n",
       "      <th>20639</th>\n",
       "      <td>2.3886</td>\n",
       "      <td>16.0</td>\n",
       "      <td>5.254717</td>\n",
       "      <td>1.162264</td>\n",
       "      <td>1387.0</td>\n",
       "      <td>2.616981</td>\n",
       "      <td>39.37</td>\n",
       "      <td>-121.24</td>\n",
       "      <td>0.894</td>\n",
       "    </tr>\n",
       "  </tbody>\n",
       "</table>\n",
       "<p>20640 rows × 9 columns</p>\n",
       "</div>"
      ],
      "text/plain": [
       "       MedInc  HouseAge  AveRooms  AveBedrms  Population  AveOccup  Latitude  \\\n",
       "0      8.3252      41.0  6.984127   1.023810       322.0  2.555556     37.88   \n",
       "1      8.3014      21.0  6.238137   0.971880      2401.0  2.109842     37.86   \n",
       "2      7.2574      52.0  8.288136   1.073446       496.0  2.802260     37.85   \n",
       "3      5.6431      52.0  5.817352   1.073059       558.0  2.547945     37.85   \n",
       "4      3.8462      52.0  6.281853   1.081081       565.0  2.181467     37.85   \n",
       "...       ...       ...       ...        ...         ...       ...       ...   \n",
       "20635  1.5603      25.0  5.045455   1.133333       845.0  2.560606     39.48   \n",
       "20636  2.5568      18.0  6.114035   1.315789       356.0  3.122807     39.49   \n",
       "20637  1.7000      17.0  5.205543   1.120092      1007.0  2.325635     39.43   \n",
       "20638  1.8672      18.0  5.329513   1.171920       741.0  2.123209     39.43   \n",
       "20639  2.3886      16.0  5.254717   1.162264      1387.0  2.616981     39.37   \n",
       "\n",
       "       Longitude  MedHouseVal  \n",
       "0        -122.23        4.526  \n",
       "1        -122.22        3.585  \n",
       "2        -122.24        3.521  \n",
       "3        -122.25        3.413  \n",
       "4        -122.25        3.422  \n",
       "...          ...          ...  \n",
       "20635    -121.09        0.781  \n",
       "20636    -121.21        0.771  \n",
       "20637    -121.22        0.923  \n",
       "20638    -121.32        0.847  \n",
       "20639    -121.24        0.894  \n",
       "\n",
       "[20640 rows x 9 columns]"
      ]
     },
     "execution_count": 47,
     "metadata": {},
     "output_type": "execute_result"
    }
   ],
   "source": [
    "df = pd.read_csv(\"fetch_california_housing.csv\")\n",
    "df"
   ]
  },
  {
   "cell_type": "code",
   "execution_count": 48,
   "id": "3SIQTLwMKp04",
   "metadata": {
    "colab": {
     "base_uri": "https://localhost:8080/",
     "height": 921
    },
    "executionInfo": {
     "elapsed": 914,
     "status": "ok",
     "timestamp": 1724081184349,
     "user": {
      "displayName": "김도형",
      "userId": "11727377734619343247"
     },
     "user_tz": -540
    },
    "id": "3SIQTLwMKp04",
    "outputId": "610a87c7-bb41-47f2-a219-9c8de6053911"
   },
   "outputs": [
    {
     "name": "stderr",
     "output_type": "stream",
     "text": [
      "C:\\Users\\Public\\Documents\\ESTsoft\\CreatorTemp\\ipykernel_16184\\3349289370.py:7: UserWarning: Glyph 48712 (\\N{HANGUL SYLLABLE BIN}) missing from font(s) DejaVu Sans.\n",
      "  plt.tight_layout()\n",
      "C:\\Users\\Public\\Documents\\ESTsoft\\CreatorTemp\\ipykernel_16184\\3349289370.py:7: UserWarning: Glyph 46020 (\\N{HANGUL SYLLABLE DO}) missing from font(s) DejaVu Sans.\n",
      "  plt.tight_layout()\n",
      "C:\\Users\\moon\\anaconda3\\Lib\\site-packages\\IPython\\core\\events.py:82: UserWarning: Glyph 48712 (\\N{HANGUL SYLLABLE BIN}) missing from font(s) DejaVu Sans.\n",
      "  func(*args, **kwargs)\n",
      "C:\\Users\\moon\\anaconda3\\Lib\\site-packages\\IPython\\core\\events.py:82: UserWarning: Glyph 46020 (\\N{HANGUL SYLLABLE DO}) missing from font(s) DejaVu Sans.\n",
      "  func(*args, **kwargs)\n",
      "C:\\Users\\moon\\anaconda3\\Lib\\site-packages\\IPython\\core\\pylabtools.py:170: UserWarning: Glyph 48712 (\\N{HANGUL SYLLABLE BIN}) missing from font(s) DejaVu Sans.\n",
      "  fig.canvas.print_figure(bytes_io, **kw)\n",
      "C:\\Users\\moon\\anaconda3\\Lib\\site-packages\\IPython\\core\\pylabtools.py:170: UserWarning: Glyph 46020 (\\N{HANGUL SYLLABLE DO}) missing from font(s) DejaVu Sans.\n",
      "  fig.canvas.print_figure(bytes_io, **kw)\n"
     ]
    },
    {
     "data": {
      "image/png": "[encoded data removed]",
      "text/plain": [
       "<Figure size 700x700 with 1 Axes>"
      ]
     },
     "metadata": {},
     "output_type": "display_data"
    }
   ],
   "source": [
    "fig, ax = plt.subplots(figsize=(7, 7))\n",
    "\n",
    "ax.hist(df['MedHouseVal'], bins=20, edgecolor='white')\n",
    "ax.set_xlabel('MedHouseVal')\n",
    "ax.set_ylabel('빈도')\n",
    "\n",
    "plt.tight_layout()"
   ]
  },
  {
   "cell_type": "code",
   "execution_count": 49,
   "id": "iOoAkgycQAF_",
   "metadata": {
    "id": "iOoAkgycQAF_"
   },
   "outputs": [
    {
     "data": {
      "image/png": "[encoded data removed]",
      "text/plain": [
       "<Figure size 1000x600 with 1 Axes>"
      ]
     },
     "metadata": {},
     "output_type": "display_data"
    }
   ],
   "source": [
    "df_sorted = df['MedHouseVal'].sort_values()\n",
    "\n",
    "df_sorted = df_sorted.reset_index(drop=True)\n",
    "\n",
    "plt.figure(figsize=(10, 6))\n",
    "plt.plot(df_sorted)\n",
    "plt.title('MedHouseVal in Ascending Order')\n",
    "plt.xlabel('Index')\n",
    "plt.ylabel('SalePrice')\n",
    "plt.grid(True)\n",
    "plt.show()"
   ]
  },
  {
   "cell_type": "code",
   "execution_count": 50,
   "id": "7d8b1b1a",
   "metadata": {
    "colab": {
     "base_uri": "https://localhost:8080/",
     "height": 458
    },
    "executionInfo": {
     "elapsed": 4,
     "status": "ok",
     "timestamp": 1724081184349,
     "user": {
      "displayName": "김도형",
      "userId": "11727377734619343247"
     },
     "user_tz": -540
    },
    "id": "7d8b1b1a",
    "outputId": "e492fc2b-6ce9-4589-8b09-f9ee632ddb4d",
    "papermill": {
     "duration": 0.161622,
     "end_time": "2020-10-20T13:18:49.949248",
     "exception": false,
     "start_time": "2020-10-20T13:18:49.787626",
     "status": "completed"
    },
    "tags": []
   },
   "outputs": [
    {
     "data": {
      "text/plain": [
       "MedInc         float64\n",
       "HouseAge       float64\n",
       "AveRooms       float64\n",
       "AveBedrms      float64\n",
       "Population     float64\n",
       "AveOccup       float64\n",
       "Latitude       float64\n",
       "Longitude      float64\n",
       "MedHouseVal    float64\n",
       "dtype: object"
      ]
     },
     "execution_count": 50,
     "metadata": {},
     "output_type": "execute_result"
    }
   ],
   "source": [
    "# 데이터가 어떤 유형으로 이루어져 있는지 알아봅니다.\n",
    "df.dtypes"
   ]
  },
  {
   "cell_type": "code",
   "execution_count": 51,
   "id": "ywMu_4L-marP",
   "metadata": {
    "colab": {
     "base_uri": "https://localhost:8080/"
    },
    "executionInfo": {
     "elapsed": 7,
     "status": "ok",
     "timestamp": 1724081184864,
     "user": {
      "displayName": "김도형",
      "userId": "11727377734619343247"
     },
     "user_tz": -540
    },
    "id": "ywMu_4L-marP",
    "outputId": "9c16dadd-084e-428d-ab90-1e39ef77f68c"
   },
   "outputs": [
    {
     "name": "stdout",
     "output_type": "stream",
     "text": [
      "(array([ 0.4999,  0.536 ,  0.5495, ..., 14.9009, 15.    , 15.0001]), array([12, 10,  1, ...,  1,  2, 49], dtype=int64))\n"
     ]
    }
   ],
   "source": [
    "print(np.unique(df['MedInc'], return_counts=True))"
   ]
  },
  {
   "cell_type": "code",
   "execution_count": 52,
   "id": "nqafFmkqmvai",
   "metadata": {
    "colab": {
     "base_uri": "https://localhost:8080/"
    },
    "executionInfo": {
     "elapsed": 5,
     "status": "ok",
     "timestamp": 1724081184864,
     "user": {
      "displayName": "김도형",
      "userId": "11727377734619343247"
     },
     "user_tz": -540
    },
    "id": "nqafFmkqmvai",
    "outputId": "50a84906-29d8-4dfb-9987-2982fb38eadb"
   },
   "outputs": [
    {
     "name": "stdout",
     "output_type": "stream",
     "text": [
      "(array([  0.84615385,   0.88888889,   1.        , ...,  62.42222222,\n",
      "       132.53333333, 141.90909091]), array([1, 1, 1, ..., 1, 1, 1], dtype=int64))\n",
      "(array([ 0.33333333,  0.375     ,  0.44444444, ..., 15.3125    ,\n",
      "       25.63636364, 34.06666667]), array([1, 1, 1, ..., 1, 1, 1], dtype=int64))\n"
     ]
    }
   ],
   "source": [
    "print(np.unique(df['AveRooms'], return_counts=True))\n",
    "print(np.unique(df['AveBedrms'], return_counts=True))"
   ]
  },
  {
   "cell_type": "code",
   "execution_count": 53,
   "id": "848bb0f8",
   "metadata": {
    "colab": {
     "base_uri": "https://localhost:8080/",
     "height": 711
    },
    "executionInfo": {
     "elapsed": 367,
     "status": "ok",
     "timestamp": 1724081185229,
     "user": {
      "displayName": "김도형",
      "userId": "11727377734619343247"
     },
     "user_tz": -540
    },
    "id": "848bb0f8",
    "outputId": "ab631b31-57db-4dc2-8b9a-6a05343c728a",
    "papermill": {
     "duration": 0.162495,
     "end_time": "2020-10-20T13:18:51.861791",
     "exception": false,
     "start_time": "2020-10-20T13:18:51.699296",
     "status": "completed"
    },
    "tags": []
   },
   "outputs": [
    {
     "data": {
      "text/plain": [
       "MedInc         0\n",
       "HouseAge       0\n",
       "AveRooms       0\n",
       "AveBedrms      0\n",
       "Population     0\n",
       "AveOccup       0\n",
       "Latitude       0\n",
       "Longitude      0\n",
       "MedHouseVal    0\n",
       "dtype: int64"
      ]
     },
     "execution_count": 53,
     "metadata": {},
     "output_type": "execute_result"
    }
   ],
   "source": [
    "df.isnull().sum().sort_values(ascending=False).head(20)"
   ]
  },
  {
   "cell_type": "markdown",
   "id": "ad3ac4f2",
   "metadata": {
    "id": "ad3ac4f2"
   },
   "source": [
    "## 데이터 전처리\n",
    "범주형(카테고리형) 변수, 결측치 처리하기"
   ]
  },
  {
   "cell_type": "code",
   "execution_count": 54,
   "id": "C1aofAYeowNI",
   "metadata": {
    "executionInfo": {
     "elapsed": 4,
     "status": "ok",
     "timestamp": 1724081185229,
     "user": {
      "displayName": "김도형",
      "userId": "11727377734619343247"
     },
     "user_tz": -540
    },
    "id": "C1aofAYeowNI"
   },
   "outputs": [],
   "source": [
    "df = pd.get_dummies(df)"
   ]
  },
  {
   "cell_type": "code",
   "execution_count": 55,
   "id": "OPg1tDLRI_3Y",
   "metadata": {
    "colab": {
     "base_uri": "https://localhost:8080/",
     "height": 458
    },
    "executionInfo": {
     "elapsed": 3,
     "status": "ok",
     "timestamp": 1724081185229,
     "user": {
      "displayName": "김도형",
      "userId": "11727377734619343247"
     },
     "user_tz": -540
    },
    "id": "OPg1tDLRI_3Y",
    "outputId": "de2e710e-96c9-4334-dc75-b5be58e5cf74"
   },
   "outputs": [
    {
     "data": {
      "text/plain": [
       "MedInc            3.870671\n",
       "HouseAge         28.639486\n",
       "AveRooms          5.429000\n",
       "AveBedrms         1.096675\n",
       "Population     1425.476744\n",
       "AveOccup          3.070655\n",
       "Latitude         35.631861\n",
       "Longitude      -119.569704\n",
       "MedHouseVal       2.068558\n",
       "dtype: float64"
      ]
     },
     "execution_count": 55,
     "metadata": {},
     "output_type": "execute_result"
    }
   ],
   "source": [
    "df.mean()"
   ]
  },
  {
   "cell_type": "code",
   "execution_count": 56,
   "id": "8ae42b47",
   "metadata": {
    "colab": {
     "base_uri": "https://localhost:8080/",
     "height": 444
    },
    "executionInfo": {
     "elapsed": 402,
     "status": "ok",
     "timestamp": 1724081185628,
     "user": {
      "displayName": "김도형",
      "userId": "11727377734619343247"
     },
     "user_tz": -540
    },
    "id": "8ae42b47",
    "outputId": "eb61f126-d89b-43c0-ccf3-53a41a3230be"
   },
   "outputs": [
    {
     "data": {
      "text/html": [
       "<div>\n",
       "<style scoped>\n",
       "    .dataframe tbody tr th:only-of-type {\n",
       "        vertical-align: middle;\n",
       "    }\n",
       "\n",
       "    .dataframe tbody tr th {\n",
       "        vertical-align: top;\n",
       "    }\n",
       "\n",
       "    .dataframe thead th {\n",
       "        text-align: right;\n",
       "    }\n",
       "</style>\n",
       "<table border=\"1\" class=\"dataframe\">\n",
       "  <thead>\n",
       "    <tr style=\"text-align: right;\">\n",
       "      <th></th>\n",
       "      <th>MedInc</th>\n",
       "      <th>HouseAge</th>\n",
       "      <th>AveRooms</th>\n",
       "      <th>AveBedrms</th>\n",
       "      <th>Population</th>\n",
       "      <th>AveOccup</th>\n",
       "      <th>Latitude</th>\n",
       "      <th>Longitude</th>\n",
       "      <th>MedHouseVal</th>\n",
       "    </tr>\n",
       "  </thead>\n",
       "  <tbody>\n",
       "    <tr>\n",
       "      <th>0</th>\n",
       "      <td>8.3252</td>\n",
       "      <td>41.0</td>\n",
       "      <td>6.984127</td>\n",
       "      <td>1.023810</td>\n",
       "      <td>322.0</td>\n",
       "      <td>2.555556</td>\n",
       "      <td>37.88</td>\n",
       "      <td>-122.23</td>\n",
       "      <td>4.526</td>\n",
       "    </tr>\n",
       "    <tr>\n",
       "      <th>1</th>\n",
       "      <td>8.3014</td>\n",
       "      <td>21.0</td>\n",
       "      <td>6.238137</td>\n",
       "      <td>0.971880</td>\n",
       "      <td>2401.0</td>\n",
       "      <td>2.109842</td>\n",
       "      <td>37.86</td>\n",
       "      <td>-122.22</td>\n",
       "      <td>3.585</td>\n",
       "    </tr>\n",
       "    <tr>\n",
       "      <th>2</th>\n",
       "      <td>7.2574</td>\n",
       "      <td>52.0</td>\n",
       "      <td>8.288136</td>\n",
       "      <td>1.073446</td>\n",
       "      <td>496.0</td>\n",
       "      <td>2.802260</td>\n",
       "      <td>37.85</td>\n",
       "      <td>-122.24</td>\n",
       "      <td>3.521</td>\n",
       "    </tr>\n",
       "    <tr>\n",
       "      <th>3</th>\n",
       "      <td>5.6431</td>\n",
       "      <td>52.0</td>\n",
       "      <td>5.817352</td>\n",
       "      <td>1.073059</td>\n",
       "      <td>558.0</td>\n",
       "      <td>2.547945</td>\n",
       "      <td>37.85</td>\n",
       "      <td>-122.25</td>\n",
       "      <td>3.413</td>\n",
       "    </tr>\n",
       "    <tr>\n",
       "      <th>4</th>\n",
       "      <td>3.8462</td>\n",
       "      <td>52.0</td>\n",
       "      <td>6.281853</td>\n",
       "      <td>1.081081</td>\n",
       "      <td>565.0</td>\n",
       "      <td>2.181467</td>\n",
       "      <td>37.85</td>\n",
       "      <td>-122.25</td>\n",
       "      <td>3.422</td>\n",
       "    </tr>\n",
       "    <tr>\n",
       "      <th>...</th>\n",
       "      <td>...</td>\n",
       "      <td>...</td>\n",
       "      <td>...</td>\n",
       "      <td>...</td>\n",
       "      <td>...</td>\n",
       "      <td>...</td>\n",
       "      <td>...</td>\n",
       "      <td>...</td>\n",
       "      <td>...</td>\n",
       "    </tr>\n",
       "    <tr>\n",
       "      <th>20635</th>\n",
       "      <td>1.5603</td>\n",
       "      <td>25.0</td>\n",
       "      <td>5.045455</td>\n",
       "      <td>1.133333</td>\n",
       "      <td>845.0</td>\n",
       "      <td>2.560606</td>\n",
       "      <td>39.48</td>\n",
       "      <td>-121.09</td>\n",
       "      <td>0.781</td>\n",
       "    </tr>\n",
       "    <tr>\n",
       "      <th>20636</th>\n",
       "      <td>2.5568</td>\n",
       "      <td>18.0</td>\n",
       "      <td>6.114035</td>\n",
       "      <td>1.315789</td>\n",
       "      <td>356.0</td>\n",
       "      <td>3.122807</td>\n",
       "      <td>39.49</td>\n",
       "      <td>-121.21</td>\n",
       "      <td>0.771</td>\n",
       "    </tr>\n",
       "    <tr>\n",
       "      <th>20637</th>\n",
       "      <td>1.7000</td>\n",
       "      <td>17.0</td>\n",
       "      <td>5.205543</td>\n",
       "      <td>1.120092</td>\n",
       "      <td>1007.0</td>\n",
       "      <td>2.325635</td>\n",
       "      <td>39.43</td>\n",
       "      <td>-121.22</td>\n",
       "      <td>0.923</td>\n",
       "    </tr>\n",
       "    <tr>\n",
       "      <th>20638</th>\n",
       "      <td>1.8672</td>\n",
       "      <td>18.0</td>\n",
       "      <td>5.329513</td>\n",
       "      <td>1.171920</td>\n",
       "      <td>741.0</td>\n",
       "      <td>2.123209</td>\n",
       "      <td>39.43</td>\n",
       "      <td>-121.32</td>\n",
       "      <td>0.847</td>\n",
       "    </tr>\n",
       "    <tr>\n",
       "      <th>20639</th>\n",
       "      <td>2.3886</td>\n",
       "      <td>16.0</td>\n",
       "      <td>5.254717</td>\n",
       "      <td>1.162264</td>\n",
       "      <td>1387.0</td>\n",
       "      <td>2.616981</td>\n",
       "      <td>39.37</td>\n",
       "      <td>-121.24</td>\n",
       "      <td>0.894</td>\n",
       "    </tr>\n",
       "  </tbody>\n",
       "</table>\n",
       "<p>20640 rows × 9 columns</p>\n",
       "</div>"
      ],
      "text/plain": [
       "       MedInc  HouseAge  AveRooms  AveBedrms  Population  AveOccup  Latitude  \\\n",
       "0      8.3252      41.0  6.984127   1.023810       322.0  2.555556     37.88   \n",
       "1      8.3014      21.0  6.238137   0.971880      2401.0  2.109842     37.86   \n",
       "2      7.2574      52.0  8.288136   1.073446       496.0  2.802260     37.85   \n",
       "3      5.6431      52.0  5.817352   1.073059       558.0  2.547945     37.85   \n",
       "4      3.8462      52.0  6.281853   1.081081       565.0  2.181467     37.85   \n",
       "...       ...       ...       ...        ...         ...       ...       ...   \n",
       "20635  1.5603      25.0  5.045455   1.133333       845.0  2.560606     39.48   \n",
       "20636  2.5568      18.0  6.114035   1.315789       356.0  3.122807     39.49   \n",
       "20637  1.7000      17.0  5.205543   1.120092      1007.0  2.325635     39.43   \n",
       "20638  1.8672      18.0  5.329513   1.171920       741.0  2.123209     39.43   \n",
       "20639  2.3886      16.0  5.254717   1.162264      1387.0  2.616981     39.37   \n",
       "\n",
       "       Longitude  MedHouseVal  \n",
       "0        -122.23        4.526  \n",
       "1        -122.22        3.585  \n",
       "2        -122.24        3.521  \n",
       "3        -122.25        3.413  \n",
       "4        -122.25        3.422  \n",
       "...          ...          ...  \n",
       "20635    -121.09        0.781  \n",
       "20636    -121.21        0.771  \n",
       "20637    -121.22        0.923  \n",
       "20638    -121.32        0.847  \n",
       "20639    -121.24        0.894  \n",
       "\n",
       "[20640 rows x 9 columns]"
      ]
     },
     "execution_count": 56,
     "metadata": {},
     "output_type": "execute_result"
    }
   ],
   "source": [
    "df = df.fillna(df.mean())\n",
    "df"
   ]
  },
  {
   "cell_type": "markdown",
   "id": "32aff43c",
   "metadata": {
    "id": "32aff43c"
   },
   "source": [
    "## 3. 속성별 관련도 추출하기"
   ]
  },
  {
   "cell_type": "code",
   "execution_count": 96,
   "id": "11f1bcfc",
   "metadata": {
    "colab": {
     "base_uri": "https://localhost:8080/",
     "height": 1000
    },
    "executionInfo": {
     "elapsed": 21102,
     "status": "ok",
     "timestamp": 1724081207551,
     "user": {
      "displayName": "김도형",
      "userId": "11727377734619343247"
     },
     "user_tz": -540
    },
    "id": "11f1bcfc",
    "outputId": "62d8cdcd-20fc-4894-f99b-68fcc56ffced"
   },
   "outputs": [
    {
     "data": {
      "image/png": "[encoded data removed]",
      "text/plain": [
       "<Figure size 500x400 with 2 Axes>"
      ]
     },
     "metadata": {},
     "output_type": "display_data"
    }
   ],
   "source": [
    "import matplotlib.pyplot as plt\n",
    "import seaborn as sns\n",
    "\n",
    "sns.set_style(\"whitegrid\")\n",
    "\n",
    "selected_cols = ['MedInc', 'MedHouseVal', 'HouseAge']\n",
    "corr = df[selected_cols].corr()\n",
    "\n",
    "plt.figure(figsize=(5,4))\n",
    "sns.heatmap(corr, annot=True, fmt=\".2f\", cmap=\"coolwarm\", linewidths=0.5, vmin=-1, vmax=1)\n",
    "\n",
    "\n",
    "plt.title(\"Correlation Heatmap: MedInc, MedHouseVal, HouseAge\")\n",
    "\n",
    "plt.show()\n",
    "\n"
   ]
  },
  {
   "cell_type": "markdown",
   "id": "Cq47UMFAMzY5",
   "metadata": {
    "id": "Cq47UMFAMzY5"
   },
   "source": [
    "### 데이터 분할"
   ]
  },
  {
   "cell_type": "code",
   "execution_count": 100,
   "id": "50c63235",
   "metadata": {
    "executionInfo": {
     "elapsed": 3,
     "status": "ok",
     "timestamp": 1724081207551,
     "user": {
      "displayName": "김도형",
      "userId": "11727377734619343247"
     },
     "user_tz": -540
    },
    "id": "50c63235"
   },
   "outputs": [],
   "source": [
    "cols_train=['MedInc', 'MedHouseVal', 'HouseAge']\n",
    "X_train_pre = df[cols_train]\n",
    "\n",
    "y = df['MedHouseVal'].values"
   ]
  },
  {
   "cell_type": "code",
   "execution_count": 101,
   "id": "34cee33d",
   "metadata": {
    "executionInfo": {
     "elapsed": 529,
     "status": "ok",
     "timestamp": 1724081208078,
     "user": {
      "displayName": "김도형",
      "userId": "11727377734619343247"
     },
     "user_tz": -540
    },
    "id": "34cee33d"
   },
   "outputs": [],
   "source": [
    "from sklearn.model_selection import train_test_split\n",
    "\n",
    "X_train, X_test, y_train, y_test = train_test_split(X_train_pre, y, test_size=0.2, random_state=1, shuffle=True)"
   ]
  },
  {
   "cell_type": "markdown",
   "id": "c8cdf400",
   "metadata": {
    "id": "c8cdf400"
   },
   "source": [
    "### 모델 구조 정의"
   ]
  },
  {
   "cell_type": "code",
   "execution_count": 102,
   "id": "tGNtkJBWNqT-",
   "metadata": {
    "colab": {
     "base_uri": "https://localhost:8080/"
    },
    "executionInfo": {
     "elapsed": 4,
     "status": "ok",
     "timestamp": 1724081208078,
     "user": {
      "displayName": "김도형",
      "userId": "11727377734619343247"
     },
     "user_tz": -540
    },
    "id": "tGNtkJBWNqT-",
    "outputId": "166fb10e-992d-4d7b-e205-5b282e52f3ab"
   },
   "outputs": [
    {
     "name": "stderr",
     "output_type": "stream",
     "text": [
      "C:\\Users\\moon\\anaconda3\\Lib\\site-packages\\keras\\src\\layers\\core\\dense.py:87: UserWarning: Do not pass an `input_shape`/`input_dim` argument to a layer. When using Sequential models, prefer using an `Input(shape)` object as the first layer in the model instead.\n",
      "  super().__init__(activity_regularizer=activity_regularizer, **kwargs)\n"
     ]
    }
   ],
   "source": [
    "from tensorflow.keras.models import Sequential\n",
    "from tensorflow.keras.layers import Dense\n",
    "\n",
    "model = Sequential()\n",
    "model.add(Dense(10, input_dim=X_train.shape[1], activation='relu'))\n",
    "model.add(Dense(30, activation='relu'))\n",
    "model.add(Dense(40, activation='relu'))\n",
    "model.add(Dense(1))                     "
   ]
  },
  {
   "cell_type": "code",
   "execution_count": 103,
   "id": "BenPFIv6OEyb",
   "metadata": {
    "colab": {
     "base_uri": "https://localhost:8080/",
     "height": 265
    },
    "executionInfo": {
     "elapsed": 4,
     "status": "ok",
     "timestamp": 1724081208078,
     "user": {
      "displayName": "김도형",
      "userId": "11727377734619343247"
     },
     "user_tz": -540
    },
    "id": "BenPFIv6OEyb",
    "outputId": "a6c26fb2-0d16-48f7-bdec-1d20874e26de"
   },
   "outputs": [
    {
     "data": {
      "text/html": [
       "<pre style=\"white-space:pre;overflow-x:auto;line-height:normal;font-family:Menlo,'DejaVu Sans Mono',consolas,'Courier New',monospace\"><span style=\"font-weight: bold\">Model: \"sequential\"</span>\n",
       "</pre>\n"
      ],
      "text/plain": [
       "\u001b[1mModel: \"sequential\"\u001b[0m\n"
      ]
     },
     "metadata": {},
     "output_type": "display_data"
    },
    {
     "data": {
      "text/html": [
       "<pre style=\"white-space:pre;overflow-x:auto;line-height:normal;font-family:Menlo,'DejaVu Sans Mono',consolas,'Courier New',monospace\">┏━━━━━━━━━━━━━━━━━━━━━━━━━━━━━━━━━┳━━━━━━━━━━━━━━━━━━━━━━━━┳━━━━━━━━━━━━━━━┓\n",
       "┃<span style=\"font-weight: bold\"> Layer (type)                    </span>┃<span style=\"font-weight: bold\"> Output Shape           </span>┃<span style=\"font-weight: bold\">       Param # </span>┃\n",
       "┡━━━━━━━━━━━━━━━━━━━━━━━━━━━━━━━━━╇━━━━━━━━━━━━━━━━━━━━━━━━╇━━━━━━━━━━━━━━━┩\n",
       "│ dense (<span style=\"color: #0087ff; text-decoration-color: #0087ff\">Dense</span>)                   │ (<span style=\"color: #00d7ff; text-decoration-color: #00d7ff\">None</span>, <span style=\"color: #00af00; text-decoration-color: #00af00\">10</span>)             │            <span style=\"color: #00af00; text-decoration-color: #00af00\">40</span> │\n",
       "├─────────────────────────────────┼────────────────────────┼───────────────┤\n",
       "│ dense_1 (<span style=\"color: #0087ff; text-decoration-color: #0087ff\">Dense</span>)                 │ (<span style=\"color: #00d7ff; text-decoration-color: #00d7ff\">None</span>, <span style=\"color: #00af00; text-decoration-color: #00af00\">30</span>)             │           <span style=\"color: #00af00; text-decoration-color: #00af00\">330</span> │\n",
       "├─────────────────────────────────┼────────────────────────┼───────────────┤\n",
       "│ dense_2 (<span style=\"color: #0087ff; text-decoration-color: #0087ff\">Dense</span>)                 │ (<span style=\"color: #00d7ff; text-decoration-color: #00d7ff\">None</span>, <span style=\"color: #00af00; text-decoration-color: #00af00\">40</span>)             │         <span style=\"color: #00af00; text-decoration-color: #00af00\">1,240</span> │\n",
       "├─────────────────────────────────┼────────────────────────┼───────────────┤\n",
       "│ dense_3 (<span style=\"color: #0087ff; text-decoration-color: #0087ff\">Dense</span>)                 │ (<span style=\"color: #00d7ff; text-decoration-color: #00d7ff\">None</span>, <span style=\"color: #00af00; text-decoration-color: #00af00\">1</span>)              │            <span style=\"color: #00af00; text-decoration-color: #00af00\">41</span> │\n",
       "└─────────────────────────────────┴────────────────────────┴───────────────┘\n",
       "</pre>\n"
      ],
      "text/plain": [
       "┏━━━━━━━━━━━━━━━━━━━━━━━━━━━━━━━━━┳━━━━━━━━━━━━━━━━━━━━━━━━┳━━━━━━━━━━━━━━━┓\n",
       "┃\u001b[1m \u001b[0m\u001b[1mLayer (type)                   \u001b[0m\u001b[1m \u001b[0m┃\u001b[1m \u001b[0m\u001b[1mOutput Shape          \u001b[0m\u001b[1m \u001b[0m┃\u001b[1m \u001b[0m\u001b[1m      Param #\u001b[0m\u001b[1m \u001b[0m┃\n",
       "┡━━━━━━━━━━━━━━━━━━━━━━━━━━━━━━━━━╇━━━━━━━━━━━━━━━━━━━━━━━━╇━━━━━━━━━━━━━━━┩\n",
       "│ dense (\u001b[38;5;33mDense\u001b[0m)                   │ (\u001b[38;5;45mNone\u001b[0m, \u001b[38;5;34m10\u001b[0m)             │            \u001b[38;5;34m40\u001b[0m │\n",
       "├─────────────────────────────────┼────────────────────────┼───────────────┤\n",
       "│ dense_1 (\u001b[38;5;33mDense\u001b[0m)                 │ (\u001b[38;5;45mNone\u001b[0m, \u001b[38;5;34m30\u001b[0m)             │           \u001b[38;5;34m330\u001b[0m │\n",
       "├─────────────────────────────────┼────────────────────────┼───────────────┤\n",
       "│ dense_2 (\u001b[38;5;33mDense\u001b[0m)                 │ (\u001b[38;5;45mNone\u001b[0m, \u001b[38;5;34m40\u001b[0m)             │         \u001b[38;5;34m1,240\u001b[0m │\n",
       "├─────────────────────────────────┼────────────────────────┼───────────────┤\n",
       "│ dense_3 (\u001b[38;5;33mDense\u001b[0m)                 │ (\u001b[38;5;45mNone\u001b[0m, \u001b[38;5;34m1\u001b[0m)              │            \u001b[38;5;34m41\u001b[0m │\n",
       "└─────────────────────────────────┴────────────────────────┴───────────────┘\n"
      ]
     },
     "metadata": {},
     "output_type": "display_data"
    },
    {
     "data": {
      "text/html": [
       "<pre style=\"white-space:pre;overflow-x:auto;line-height:normal;font-family:Menlo,'DejaVu Sans Mono',consolas,'Courier New',monospace\"><span style=\"font-weight: bold\"> Total params: </span><span style=\"color: #00af00; text-decoration-color: #00af00\">1,651</span> (6.45 KB)\n",
       "</pre>\n"
      ],
      "text/plain": [
       "\u001b[1m Total params: \u001b[0m\u001b[38;5;34m1,651\u001b[0m (6.45 KB)\n"
      ]
     },
     "metadata": {},
     "output_type": "display_data"
    },
    {
     "data": {
      "text/html": [
       "<pre style=\"white-space:pre;overflow-x:auto;line-height:normal;font-family:Menlo,'DejaVu Sans Mono',consolas,'Courier New',monospace\"><span style=\"font-weight: bold\"> Trainable params: </span><span style=\"color: #00af00; text-decoration-color: #00af00\">1,651</span> (6.45 KB)\n",
       "</pre>\n"
      ],
      "text/plain": [
       "\u001b[1m Trainable params: \u001b[0m\u001b[38;5;34m1,651\u001b[0m (6.45 KB)\n"
      ]
     },
     "metadata": {},
     "output_type": "display_data"
    },
    {
     "data": {
      "text/html": [
       "<pre style=\"white-space:pre;overflow-x:auto;line-height:normal;font-family:Menlo,'DejaVu Sans Mono',consolas,'Courier New',monospace\"><span style=\"font-weight: bold\"> Non-trainable params: </span><span style=\"color: #00af00; text-decoration-color: #00af00\">0</span> (0.00 B)\n",
       "</pre>\n"
      ],
      "text/plain": [
       "\u001b[1m Non-trainable params: \u001b[0m\u001b[38;5;34m0\u001b[0m (0.00 B)\n"
      ]
     },
     "metadata": {},
     "output_type": "display_data"
    }
   ],
   "source": [
    "model.summary()"
   ]
  },
  {
   "cell_type": "markdown",
   "id": "hge4UMhSO30m",
   "metadata": {
    "id": "hge4UMhSO30m"
   },
   "source": [
    "### 모델 학습"
   ]
  },
  {
   "cell_type": "code",
   "execution_count": 104,
   "id": "7b6418e6",
   "metadata": {
    "colab": {
     "base_uri": "https://localhost:8080/"
    },
    "executionInfo": {
     "elapsed": 134983,
     "status": "ok",
     "timestamp": 1724081343058,
     "user": {
      "displayName": "김도형",
      "userId": "11727377734619343247"
     },
     "user_tz": -540
    },
    "id": "7b6418e6",
    "outputId": "a1dddb1f-3886-4899-8481-35417d234b94",
    "scrolled": true
   },
   "outputs": [
    {
     "name": "stdout",
     "output_type": "stream",
     "text": [
      "Epoch 1/2000\n",
      "\u001b[1m379/387\u001b[0m \u001b[32m━━━━━━━━━━━━━━━━━━━\u001b[0m\u001b[37m━\u001b[0m \u001b[1m0s\u001b[0m 938us/step - loss: 0.9423 - mape: 38.1809 \n",
      "Epoch 1: val_loss improved from inf to 0.04857, saving model to ./model/01-0.0486.keras\n",
      "\u001b[1m387/387\u001b[0m \u001b[32m━━━━━━━━━━━━━━━━━━━━\u001b[0m\u001b[37m\u001b[0m \u001b[1m2s\u001b[0m 2ms/step - loss: 0.9280 - mape: 37.8125 - val_loss: 0.0486 - val_mape: 9.3151\n",
      "Epoch 2/2000\n",
      "\u001b[1m372/387\u001b[0m \u001b[32m━━━━━━━━━━━━━━━━━━━\u001b[0m\u001b[37m━\u001b[0m \u001b[1m0s\u001b[0m 955us/step - loss: 0.0124 - mape: 4.4670\n",
      "Epoch 2: val_loss improved from 0.04857 to 0.00098, saving model to ./model/02-0.0010.keras\n",
      "\u001b[1m387/387\u001b[0m \u001b[32m━━━━━━━━━━━━━━━━━━━━\u001b[0m\u001b[37m\u001b[0m \u001b[1m1s\u001b[0m 2ms/step - loss: 0.0121 - mape: 4.3960 - val_loss: 9.7635e-04 - val_mape: 1.1617\n",
      "Epoch 3/2000\n",
      "\u001b[1m372/387\u001b[0m \u001b[32m━━━━━━━━━━━━━━━━━━━\u001b[0m\u001b[37m━\u001b[0m \u001b[1m0s\u001b[0m 955us/step - loss: 7.9127e-04 - mape: 1.0998\n",
      "Epoch 3: val_loss improved from 0.00098 to 0.00049, saving model to ./model/03-0.0005.keras\n",
      "\u001b[1m387/387\u001b[0m \u001b[32m━━━━━━━━━━━━━━━━━━━━\u001b[0m\u001b[37m\u001b[0m \u001b[1m1s\u001b[0m 1ms/step - loss: 7.9111e-04 - mape: 1.0984 - val_loss: 4.9043e-04 - val_mape: 0.8030\n",
      "Epoch 4/2000\n",
      "\u001b[1m385/387\u001b[0m \u001b[32m━━━━━━━━━━━━━━━━━━━\u001b[0m\u001b[37m━\u001b[0m \u001b[1m0s\u001b[0m 921us/step - loss: 4.7002e-04 - mape: 0.8895\n",
      "Epoch 4: val_loss improved from 0.00049 to 0.00030, saving model to ./model/04-0.0003.keras\n",
      "\u001b[1m387/387\u001b[0m \u001b[32m━━━━━━━━━━━━━━━━━━━━\u001b[0m\u001b[37m\u001b[0m \u001b[1m1s\u001b[0m 1ms/step - loss: 4.7026e-04 - mape: 0.8893 - val_loss: 3.0381e-04 - val_mape: 0.6323\n",
      "Epoch 5/2000\n",
      "\u001b[1m371/387\u001b[0m \u001b[32m━━━━━━━━━━━━━━━━━━━\u001b[0m\u001b[37m━\u001b[0m \u001b[1m0s\u001b[0m 955us/step - loss: 2.9964e-04 - mape: 0.7364\n",
      "Epoch 5: val_loss improved from 0.00030 to 0.00019, saving model to ./model/05-0.0002.keras\n",
      "\u001b[1m387/387\u001b[0m \u001b[32m━━━━━━━━━━━━━━━━━━━━\u001b[0m\u001b[37m\u001b[0m \u001b[1m1s\u001b[0m 1ms/step - loss: 3.0114e-04 - mape: 0.7357 - val_loss: 1.9072e-04 - val_mape: 0.4662\n",
      "Epoch 6/2000\n",
      "\u001b[1m383/387\u001b[0m \u001b[32m━━━━━━━━━━━━━━━━━━━\u001b[0m\u001b[37m━\u001b[0m \u001b[1m0s\u001b[0m 927us/step - loss: 1.9221e-04 - mape: 0.5898\n",
      "Epoch 6: val_loss did not improve from 0.00019\n",
      "\u001b[1m387/387\u001b[0m \u001b[32m━━━━━━━━━━━━━━━━━━━━\u001b[0m\u001b[37m\u001b[0m \u001b[1m1s\u001b[0m 1ms/step - loss: 1.9284e-04 - mape: 0.5899 - val_loss: 2.8767e-04 - val_mape: 0.8127\n",
      "Epoch 7/2000\n",
      "\u001b[1m334/387\u001b[0m \u001b[32m━━━━━━━━━━━━━━━━━\u001b[0m\u001b[37m━━━\u001b[0m \u001b[1m0s\u001b[0m 913us/step - loss: 1.5298e-04 - mape: 0.5537\n",
      "Epoch 7: val_loss did not improve from 0.00019\n",
      "\u001b[1m387/387\u001b[0m \u001b[32m━━━━━━━━━━━━━━━━━━━━\u001b[0m\u001b[37m\u001b[0m \u001b[1m1s\u001b[0m 1ms/step - loss: 1.6015e-04 - mape: 0.5590 - val_loss: 2.7069e-04 - val_mape: 0.8791\n",
      "Epoch 8/2000\n",
      "\u001b[1m372/387\u001b[0m \u001b[32m━━━━━━━━━━━━━━━━━━━\u001b[0m\u001b[37m━\u001b[0m \u001b[1m0s\u001b[0m 953us/step - loss: 1.1005e-04 - mape: 0.4482\n",
      "Epoch 8: val_loss did not improve from 0.00019\n",
      "\u001b[1m387/387\u001b[0m \u001b[32m━━━━━━━━━━━━━━━━━━━━\u001b[0m\u001b[37m\u001b[0m \u001b[1m1s\u001b[0m 1ms/step - loss: 1.1236e-04 - mape: 0.4491 - val_loss: 6.9485e-04 - val_mape: 1.4754\n",
      "Epoch 9/2000\n",
      "\u001b[1m379/387\u001b[0m \u001b[32m━━━━━━━━━━━━━━━━━━━\u001b[0m\u001b[37m━\u001b[0m \u001b[1m0s\u001b[0m 939us/step - loss: 2.8629e-04 - mape: 0.7363\n",
      "Epoch 9: val_loss improved from 0.00019 to 0.00005, saving model to ./model/09-0.0001.keras\n",
      "\u001b[1m387/387\u001b[0m \u001b[32m━━━━━━━━━━━━━━━━━━━━\u001b[0m\u001b[37m\u001b[0m \u001b[1m1s\u001b[0m 1ms/step - loss: 2.8347e-04 - mape: 0.7313 - val_loss: 5.3914e-05 - val_mape: 0.1912\n",
      "Epoch 10/2000\n",
      "\u001b[1m382/387\u001b[0m \u001b[32m━━━━━━━━━━━━━━━━━━━\u001b[0m\u001b[37m━\u001b[0m \u001b[1m0s\u001b[0m 930us/step - loss: 9.3664e-05 - mape: 0.3913\n",
      "Epoch 10: val_loss did not improve from 0.00005\n",
      "\u001b[1m387/387\u001b[0m \u001b[32m━━━━━━━━━━━━━━━━━━━━\u001b[0m\u001b[37m\u001b[0m \u001b[1m1s\u001b[0m 1ms/step - loss: 9.4986e-05 - mape: 0.3935 - val_loss: 4.1391e-04 - val_mape: 1.1308\n",
      "Epoch 11/2000\n",
      "\u001b[1m363/387\u001b[0m \u001b[32m━━━━━━━━━━━━━━━━━━\u001b[0m\u001b[37m━━\u001b[0m \u001b[1m0s\u001b[0m 984us/step - loss: 6.1644e-04 - mape: 1.2083\n",
      "Epoch 11: val_loss did not improve from 0.00005\n",
      "\u001b[1m387/387\u001b[0m \u001b[32m━━━━━━━━━━━━━━━━━━━━\u001b[0m\u001b[37m\u001b[0m \u001b[1m1s\u001b[0m 1ms/step - loss: 6.0510e-04 - mape: 1.1933 - val_loss: 2.0086e-04 - val_mape: 0.8090\n",
      "Epoch 12/2000\n",
      "\u001b[1m365/387\u001b[0m \u001b[32m━━━━━━━━━━━━━━━━━━\u001b[0m\u001b[37m━━\u001b[0m \u001b[1m0s\u001b[0m 978us/step - loss: 3.6463e-04 - mape: 0.8748\n",
      "Epoch 12: val_loss did not improve from 0.00005\n",
      "\u001b[1m387/387\u001b[0m \u001b[32m━━━━━━━━━━━━━━━━━━━━\u001b[0m\u001b[37m\u001b[0m \u001b[1m1s\u001b[0m 1ms/step - loss: 3.5671e-04 - mape: 0.8608 - val_loss: 0.0020 - val_mape: 2.4179\n",
      "Epoch 13/2000\n",
      "\u001b[1m370/387\u001b[0m \u001b[32m━━━━━━━━━━━━━━━━━━━\u001b[0m\u001b[37m━\u001b[0m \u001b[1m0s\u001b[0m 963us/step - loss: 4.2430e-04 - mape: 0.8657\n",
      "Epoch 13: val_loss did not improve from 0.00005\n",
      "\u001b[1m387/387\u001b[0m \u001b[32m━━━━━━━━━━━━━━━━━━━━\u001b[0m\u001b[37m\u001b[0m \u001b[1m1s\u001b[0m 1ms/step - loss: 4.3314e-04 - mape: 0.8702 - val_loss: 3.3341e-04 - val_mape: 1.0098\n",
      "Epoch 14/2000\n",
      "\u001b[1m357/387\u001b[0m \u001b[32m━━━━━━━━━━━━━━━━━━\u001b[0m\u001b[37m━━\u001b[0m \u001b[1m0s\u001b[0m 997us/step - loss: 2.7604e-04 - mape: 0.7352\n",
      "Epoch 14: val_loss did not improve from 0.00005\n",
      "\u001b[1m387/387\u001b[0m \u001b[32m━━━━━━━━━━━━━━━━━━━━\u001b[0m\u001b[37m\u001b[0m \u001b[1m1s\u001b[0m 1ms/step - loss: 3.3493e-04 - mape: 0.7785 - val_loss: 1.8177e-04 - val_mape: 0.5317\n",
      "Epoch 15/2000\n",
      "\u001b[1m384/387\u001b[0m \u001b[32m━━━━━━━━━━━━━━━━━━━\u001b[0m\u001b[37m━\u001b[0m \u001b[1m0s\u001b[0m 1ms/step - loss: 1.5173e-04 - mape: 0.5503  \n",
      "Epoch 15: val_loss did not improve from 0.00005\n",
      "\u001b[1m387/387\u001b[0m \u001b[32m━━━━━━━━━━━━━━━━━━━━\u001b[0m\u001b[37m\u001b[0m \u001b[1m1s\u001b[0m 1ms/step - loss: 1.5161e-04 - mape: 0.5500 - val_loss: 1.4531e-04 - val_mape: 0.5419\n",
      "Epoch 16/2000\n",
      "\u001b[1m371/387\u001b[0m \u001b[32m━━━━━━━━━━━━━━━━━━━\u001b[0m\u001b[37m━\u001b[0m \u001b[1m0s\u001b[0m 961us/step - loss: 5.4438e-04 - mape: 0.9384\n",
      "Epoch 16: val_loss improved from 0.00005 to 0.00005, saving model to ./model/16-0.0000.keras\n",
      "\u001b[1m387/387\u001b[0m \u001b[32m━━━━━━━━━━━━━━━━━━━━\u001b[0m\u001b[37m\u001b[0m \u001b[1m1s\u001b[0m 1ms/step - loss: 5.5840e-04 - mape: 0.9497 - val_loss: 4.8936e-05 - val_mape: 0.2923\n",
      "Epoch 17/2000\n",
      "\u001b[1m386/387\u001b[0m \u001b[32m━━━━━━━━━━━━━━━━━━━\u001b[0m\u001b[37m━\u001b[0m \u001b[1m0s\u001b[0m 921us/step - loss: 1.3688e-04 - mape: 0.4605\n",
      "Epoch 17: val_loss did not improve from 0.00005\n",
      "\u001b[1m387/387\u001b[0m \u001b[32m━━━━━━━━━━━━━━━━━━━━\u001b[0m\u001b[37m\u001b[0m \u001b[1m1s\u001b[0m 1ms/step - loss: 1.3781e-04 - mape: 0.4619 - val_loss: 0.0051 - val_mape: 3.9929\n",
      "Epoch 18/2000\n",
      "\u001b[1m335/387\u001b[0m \u001b[32m━━━━━━━━━━━━━━━━━\u001b[0m\u001b[37m━━━\u001b[0m \u001b[1m0s\u001b[0m 909us/step - loss: 4.9168e-04 - mape: 0.9979\n",
      "Epoch 18: val_loss did not improve from 0.00005\n",
      "\u001b[1m387/387\u001b[0m \u001b[32m━━━━━━━━━━━━━━━━━━━━\u001b[0m\u001b[37m\u001b[0m \u001b[1m1s\u001b[0m 1ms/step - loss: 4.7348e-04 - mape: 0.9793 - val_loss: 1.6556e-04 - val_mape: 0.7071\n",
      "Epoch 19/2000\n",
      "\u001b[1m366/387\u001b[0m \u001b[32m━━━━━━━━━━━━━━━━━━\u001b[0m\u001b[37m━━\u001b[0m \u001b[1m0s\u001b[0m 965us/step - loss: 5.0639e-04 - mape: 1.0014\n",
      "Epoch 19: val_loss did not improve from 0.00005\n",
      "\u001b[1m387/387\u001b[0m \u001b[32m━━━━━━━━━━━━━━━━━━━━\u001b[0m\u001b[37m\u001b[0m \u001b[1m1s\u001b[0m 1ms/step - loss: 5.2207e-04 - mape: 1.0142 - val_loss: 2.1646e-04 - val_mape: 0.7274\n",
      "Epoch 20/2000\n",
      "\u001b[1m377/387\u001b[0m \u001b[32m━━━━━━━━━━━━━━━━━━━\u001b[0m\u001b[37m━\u001b[0m \u001b[1m0s\u001b[0m 939us/step - loss: 6.1144e-04 - mape: 1.1193\n",
      "Epoch 20: val_loss did not improve from 0.00005\n",
      "\u001b[1m387/387\u001b[0m \u001b[32m━━━━━━━━━━━━━━━━━━━━\u001b[0m\u001b[37m\u001b[0m \u001b[1m1s\u001b[0m 1ms/step - loss: 6.1698e-04 - mape: 1.1213 - val_loss: 6.0443e-05 - val_mape: 0.3923\n",
      "Epoch 21/2000\n",
      "\u001b[1m371/387\u001b[0m \u001b[32m━━━━━━━━━━━━━━━━━━━\u001b[0m\u001b[37m━\u001b[0m \u001b[1m0s\u001b[0m 954us/step - loss: 6.0150e-05 - mape: 0.3519\n",
      "Epoch 21: val_loss did not improve from 0.00005\n",
      "\u001b[1m387/387\u001b[0m \u001b[32m━━━━━━━━━━━━━━━━━━━━\u001b[0m\u001b[37m\u001b[0m \u001b[1m1s\u001b[0m 1ms/step - loss: 6.4064e-05 - mape: 0.3579 - val_loss: 0.0032 - val_mape: 2.9394\n",
      "Epoch 22/2000\n",
      "\u001b[1m367/387\u001b[0m \u001b[32m━━━━━━━━━━━━━━━━━━\u001b[0m\u001b[37m━━\u001b[0m \u001b[1m0s\u001b[0m 967us/step - loss: 5.0026e-04 - mape: 1.0225\n",
      "Epoch 22: val_loss did not improve from 0.00005\n",
      "\u001b[1m387/387\u001b[0m \u001b[32m━━━━━━━━━━━━━━━━━━━━\u001b[0m\u001b[37m\u001b[0m \u001b[1m1s\u001b[0m 1ms/step - loss: 4.9400e-04 - mape: 1.0150 - val_loss: 7.7532e-04 - val_mape: 1.7319\n",
      "Epoch 23/2000\n",
      "\u001b[1m332/387\u001b[0m \u001b[32m━━━━━━━━━━━━━━━━━\u001b[0m\u001b[37m━━━\u001b[0m \u001b[1m0s\u001b[0m 1ms/step - loss: 5.2194e-04 - mape: 0.9367  \n",
      "Epoch 23: val_loss did not improve from 0.00005\n",
      "\u001b[1m387/387\u001b[0m \u001b[32m━━━━━━━━━━━━━━━━━━━━\u001b[0m\u001b[37m\u001b[0m \u001b[1m1s\u001b[0m 1ms/step - loss: 5.4347e-04 - mape: 0.9524 - val_loss: 0.0014 - val_mape: 2.0822\n",
      "Epoch 24/2000\n",
      "\u001b[1m368/387\u001b[0m \u001b[32m━━━━━━━━━━━━━━━━━━━\u001b[0m\u001b[37m━\u001b[0m \u001b[1m0s\u001b[0m 961us/step - loss: 5.8529e-04 - mape: 1.0114\n",
      "Epoch 24: val_loss did not improve from 0.00005\n",
      "\u001b[1m387/387\u001b[0m \u001b[32m━━━━━━━━━━━━━━━━━━━━\u001b[0m\u001b[37m\u001b[0m \u001b[1m1s\u001b[0m 1ms/step - loss: 5.6725e-04 - mape: 0.9894 - val_loss: 4.5877e-04 - val_mape: 1.1461\n",
      "Epoch 25/2000\n",
      "\u001b[1m370/387\u001b[0m \u001b[32m━━━━━━━━━━━━━━━━━━━\u001b[0m\u001b[37m━\u001b[0m \u001b[1m0s\u001b[0m 959us/step - loss: 4.8147e-04 - mape: 0.9796\n",
      "Epoch 25: val_loss did not improve from 0.00005\n",
      "\u001b[1m387/387\u001b[0m \u001b[32m━━━━━━━━━━━━━━━━━━━━\u001b[0m\u001b[37m\u001b[0m \u001b[1m1s\u001b[0m 1ms/step - loss: 4.9646e-04 - mape: 0.9936 - val_loss: 0.0013 - val_mape: 1.9780\n",
      "Epoch 26/2000\n",
      "\u001b[1m352/387\u001b[0m \u001b[32m━━━━━━━━━━━━━━━━━━\u001b[0m\u001b[37m━━\u001b[0m \u001b[1m0s\u001b[0m 1ms/step - loss: 2.0266e-04 - mape: 0.6394  \n",
      "Epoch 26: val_loss did not improve from 0.00005\n",
      "\u001b[1m387/387\u001b[0m \u001b[32m━━━━━━━━━━━━━━━━━━━━\u001b[0m\u001b[37m\u001b[0m \u001b[1m1s\u001b[0m 1ms/step - loss: 1.9916e-04 - mape: 0.6332 - val_loss: 0.0010 - val_mape: 1.8944\n",
      "Epoch 27/2000\n",
      "\u001b[1m383/387\u001b[0m \u001b[32m━━━━━━━━━━━━━━━━━━━\u001b[0m\u001b[37m━\u001b[0m \u001b[1m0s\u001b[0m 929us/step - loss: 3.0389e-04 - mape: 0.7774\n",
      "Epoch 27: val_loss did not improve from 0.00005\n",
      "\u001b[1m387/387\u001b[0m \u001b[32m━━━━━━━━━━━━━━━━━━━━\u001b[0m\u001b[37m\u001b[0m \u001b[1m1s\u001b[0m 1ms/step - loss: 3.0519e-04 - mape: 0.7783 - val_loss: 3.6295e-04 - val_mape: 1.0917\n",
      "Epoch 28/2000\n",
      "\u001b[1m368/387\u001b[0m \u001b[32m━━━━━━━━━━━━━━━━━━━\u001b[0m\u001b[37m━\u001b[0m \u001b[1m0s\u001b[0m 966us/step - loss: 3.4451e-04 - mape: 0.7420\n",
      "Epoch 28: val_loss improved from 0.00005 to 0.00005, saving model to ./model/28-0.0000.keras\n",
      "\u001b[1m387/387\u001b[0m \u001b[32m━━━━━━━━━━━━━━━━━━━━\u001b[0m\u001b[37m\u001b[0m \u001b[1m1s\u001b[0m 1ms/step - loss: 3.6146e-04 - mape: 0.7561 - val_loss: 4.5047e-05 - val_mape: 0.2136\n",
      "Epoch 29/2000\n",
      "\u001b[1m379/387\u001b[0m \u001b[32m━━━━━━━━━━━━━━━━━━━\u001b[0m\u001b[37m━\u001b[0m \u001b[1m0s\u001b[0m 941us/step - loss: 5.8654e-05 - mape: 0.3535\n",
      "Epoch 29: val_loss did not improve from 0.00005\n",
      "\u001b[1m387/387\u001b[0m \u001b[32m━━━━━━━━━━━━━━━━━━━━\u001b[0m\u001b[37m\u001b[0m \u001b[1m1s\u001b[0m 1ms/step - loss: 5.8379e-05 - mape: 0.3523 - val_loss: 6.1255e-05 - val_mape: 0.3755\n",
      "Epoch 30/2000\n",
      "\u001b[1m332/387\u001b[0m \u001b[32m━━━━━━━━━━━━━━━━━\u001b[0m\u001b[37m━━━\u001b[0m \u001b[1m0s\u001b[0m 915us/step - loss: 3.0454e-04 - mape: 0.7028\n",
      "Epoch 30: val_loss did not improve from 0.00005\n",
      "\u001b[1m387/387\u001b[0m \u001b[32m━━━━━━━━━━━━━━━━━━━━\u001b[0m\u001b[37m\u001b[0m \u001b[1m1s\u001b[0m 1ms/step - loss: 3.6480e-04 - mape: 0.7603 - val_loss: 7.2338e-05 - val_mape: 0.4155\n",
      "Epoch 31/2000\n",
      "\u001b[1m357/387\u001b[0m \u001b[32m━━━━━━━━━━━━━━━━━━\u001b[0m\u001b[37m━━\u001b[0m \u001b[1m0s\u001b[0m 994us/step - loss: 8.3499e-05 - mape: 0.4138\n",
      "Epoch 31: val_loss did not improve from 0.00005\n",
      "\u001b[1m387/387\u001b[0m \u001b[32m━━━━━━━━━━━━━━━━━━━━\u001b[0m\u001b[37m\u001b[0m \u001b[1m1s\u001b[0m 1ms/step - loss: 9.2584e-05 - mape: 0.4265 - val_loss: 6.2086e-04 - val_mape: 1.3067\n",
      "Epoch 32/2000\n",
      "\u001b[1m384/387\u001b[0m \u001b[32m━━━━━━━━━━━━━━━━━━━\u001b[0m\u001b[37m━\u001b[0m \u001b[1m0s\u001b[0m 924us/step - loss: 3.4654e-04 - mape: 0.8662\n",
      "Epoch 32: val_loss did not improve from 0.00005\n",
      "\u001b[1m387/387\u001b[0m \u001b[32m━━━━━━━━━━━━━━━━━━━━\u001b[0m\u001b[37m\u001b[0m \u001b[1m1s\u001b[0m 1ms/step - loss: 3.4828e-04 - mape: 0.8684 - val_loss: 5.0247e-04 - val_mape: 1.2392\n",
      "Epoch 33/2000\n",
      "\u001b[1m372/387\u001b[0m \u001b[32m━━━━━━━━━━━━━━━━━━━\u001b[0m\u001b[37m━\u001b[0m \u001b[1m0s\u001b[0m 952us/step - loss: 2.7179e-04 - mape: 0.7516\n",
      "Epoch 33: val_loss did not improve from 0.00005\n",
      "\u001b[1m387/387\u001b[0m \u001b[32m━━━━━━━━━━━━━━━━━━━━\u001b[0m\u001b[37m\u001b[0m \u001b[1m1s\u001b[0m 1ms/step - loss: 2.7662e-04 - mape: 0.7579 - val_loss: 3.5651e-04 - val_mape: 1.0546\n",
      "Epoch 34/2000\n",
      "\u001b[1m381/387\u001b[0m \u001b[32m━━━━━━━━━━━━━━━━━━━\u001b[0m\u001b[37m━\u001b[0m \u001b[1m0s\u001b[0m 931us/step - loss: 2.2235e-04 - mape: 0.6047\n",
      "Epoch 34: val_loss did not improve from 0.00005\n",
      "\u001b[1m387/387\u001b[0m \u001b[32m━━━━━━━━━━━━━━━━━━━━\u001b[0m\u001b[37m\u001b[0m \u001b[1m1s\u001b[0m 1ms/step - loss: 2.2738e-04 - mape: 0.6115 - val_loss: 1.4522e-04 - val_mape: 0.6457\n",
      "Epoch 35/2000\n",
      "\u001b[1m385/387\u001b[0m \u001b[32m━━━━━━━━━━━━━━━━━━━\u001b[0m\u001b[37m━\u001b[0m \u001b[1m0s\u001b[0m 919us/step - loss: 1.2024e-04 - mape: 0.4583\n",
      "Epoch 35: val_loss did not improve from 0.00005\n",
      "\u001b[1m387/387\u001b[0m \u001b[32m━━━━━━━━━━━━━━━━━━━━\u001b[0m\u001b[37m\u001b[0m \u001b[1m1s\u001b[0m 1ms/step - loss: 1.2139e-04 - mape: 0.4598 - val_loss: 0.0030 - val_mape: 3.0669\n",
      "Epoch 36/2000\n",
      "\u001b[1m376/387\u001b[0m \u001b[32m━━━━━━━━━━━━━━━━━━━\u001b[0m\u001b[37m━\u001b[0m \u001b[1m0s\u001b[0m 946us/step - loss: 3.0661e-04 - mape: 0.7798\n",
      "Epoch 36: val_loss did not improve from 0.00005\n",
      "\u001b[1m387/387\u001b[0m \u001b[32m━━━━━━━━━━━━━━━━━━━━\u001b[0m\u001b[37m\u001b[0m \u001b[1m1s\u001b[0m 1ms/step - loss: 3.1787e-04 - mape: 0.7829 - val_loss: 0.0055 - val_mape: 4.4855\n",
      "Epoch 37/2000\n",
      "\u001b[1m378/387\u001b[0m \u001b[32m━━━━━━━━━━━━━━━━━━━\u001b[0m\u001b[37m━\u001b[0m \u001b[1m0s\u001b[0m 936us/step - loss: 5.0772e-04 - mape: 0.8642\n",
      "Epoch 37: val_loss improved from 0.00005 to 0.00002, saving model to ./model/37-0.0000.keras\n",
      "\u001b[1m387/387\u001b[0m \u001b[32m━━━━━━━━━━━━━━━━━━━━\u001b[0m\u001b[37m\u001b[0m \u001b[1m1s\u001b[0m 1ms/step - loss: 4.9869e-04 - mape: 0.8531 - val_loss: 1.8167e-05 - val_mape: 0.0535\n",
      "Epoch 38/2000\n",
      "\u001b[1m351/387\u001b[0m \u001b[32m━━━━━━━━━━━━━━━━━━\u001b[0m\u001b[37m━━\u001b[0m \u001b[1m0s\u001b[0m 1ms/step - loss: 4.8678e-05 - mape: 0.2911  \n",
      "Epoch 38: val_loss did not improve from 0.00002\n",
      "\u001b[1m387/387\u001b[0m \u001b[32m━━━━━━━━━━━━━━━━━━━━\u001b[0m\u001b[37m\u001b[0m \u001b[1m1s\u001b[0m 1ms/step - loss: 5.9212e-05 - mape: 0.3105 - val_loss: 5.2371e-04 - val_mape: 1.3128\n",
      "Epoch 39/2000\n",
      "\u001b[1m384/387\u001b[0m \u001b[32m━━━━━━━━━━━━━━━━━━━\u001b[0m\u001b[37m━\u001b[0m \u001b[1m0s\u001b[0m 924us/step - loss: 8.5862e-04 - mape: 1.0761\n",
      "Epoch 39: val_loss did not improve from 0.00002\n",
      "\u001b[1m387/387\u001b[0m \u001b[32m━━━━━━━━━━━━━━━━━━━━\u001b[0m\u001b[37m\u001b[0m \u001b[1m1s\u001b[0m 1ms/step - loss: 8.6078e-04 - mape: 1.0767 - val_loss: 6.9112e-05 - val_mape: 0.4316\n",
      "Epoch 40/2000\n",
      "\u001b[1m363/387\u001b[0m \u001b[32m━━━━━━━━━━━━━━━━━━\u001b[0m\u001b[37m━━\u001b[0m \u001b[1m0s\u001b[0m 981us/step - loss: 2.5107e-05 - mape: 0.2212\n",
      "Epoch 40: val_loss did not improve from 0.00002\n",
      "\u001b[1m387/387\u001b[0m \u001b[32m━━━━━━━━━━━━━━━━━━━━\u001b[0m\u001b[37m\u001b[0m \u001b[1m1s\u001b[0m 1ms/step - loss: 2.5746e-05 - mape: 0.2223 - val_loss: 2.2967e-05 - val_mape: 0.1024\n",
      "Epoch 41/2000\n",
      "\u001b[1m366/387\u001b[0m \u001b[32m━━━━━━━━━━━━━━━━━━\u001b[0m\u001b[37m━━\u001b[0m \u001b[1m0s\u001b[0m 975us/step - loss: 1.0676e-04 - mape: 0.3137\n",
      "Epoch 41: val_loss did not improve from 0.00002\n",
      "\u001b[1m387/387\u001b[0m \u001b[32m━━━━━━━━━━━━━━━━━━━━\u001b[0m\u001b[37m\u001b[0m \u001b[1m1s\u001b[0m 1ms/step - loss: 1.2226e-04 - mape: 0.3365 - val_loss: 9.5955e-05 - val_mape: 0.4603\n",
      "Epoch 42/2000\n",
      "\u001b[1m364/387\u001b[0m \u001b[32m━━━━━━━━━━━━━━━━━━\u001b[0m\u001b[37m━━\u001b[0m \u001b[1m0s\u001b[0m 984us/step - loss: 1.5669e-04 - mape: 0.5611\n",
      "Epoch 42: val_loss did not improve from 0.00002\n",
      "\u001b[1m387/387\u001b[0m \u001b[32m━━━━━━━━━━━━━━━━━━━━\u001b[0m\u001b[37m\u001b[0m \u001b[1m1s\u001b[0m 1ms/step - loss: 1.6450e-04 - mape: 0.5707 - val_loss: 0.0019 - val_mape: 2.4906\n",
      "Epoch 43/2000\n",
      "\u001b[1m360/387\u001b[0m \u001b[32m━━━━━━━━━━━━━━━━━━\u001b[0m\u001b[37m━━\u001b[0m \u001b[1m0s\u001b[0m 991us/step - loss: 1.2250e-04 - mape: 0.4509\n",
      "Epoch 43: val_loss did not improve from 0.00002\n",
      "\u001b[1m387/387\u001b[0m \u001b[32m━━━━━━━━━━━━━━━━━━━━\u001b[0m\u001b[37m\u001b[0m \u001b[1m1s\u001b[0m 1ms/step - loss: 1.2124e-04 - mape: 0.4480 - val_loss: 1.9451e-05 - val_mape: 0.1056\n",
      "Epoch 44/2000\n",
      "\u001b[1m366/387\u001b[0m \u001b[32m━━━━━━━━━━━━━━━━━━\u001b[0m\u001b[37m━━\u001b[0m \u001b[1m0s\u001b[0m 975us/step - loss: 7.1937e-04 - mape: 1.0437\n",
      "Epoch 44: val_loss did not improve from 0.00002\n",
      "\u001b[1m387/387\u001b[0m \u001b[32m━━━━━━━━━━━━━━━━━━━━\u001b[0m\u001b[37m\u001b[0m \u001b[1m1s\u001b[0m 1ms/step - loss: 7.2212e-04 - mape: 1.0465 - val_loss: 3.1544e-05 - val_mape: 0.2545\n",
      "Epoch 45/2000\n",
      "\u001b[1m368/387\u001b[0m \u001b[32m━━━━━━━━━━━━━━━━━━━\u001b[0m\u001b[37m━\u001b[0m \u001b[1m0s\u001b[0m 971us/step - loss: 4.2866e-05 - mape: 0.2629\n",
      "Epoch 45: val_loss did not improve from 0.00002\n",
      "\u001b[1m387/387\u001b[0m \u001b[32m━━━━━━━━━━━━━━━━━━━━\u001b[0m\u001b[37m\u001b[0m \u001b[1m1s\u001b[0m 1ms/step - loss: 4.5804e-05 - mape: 0.2707 - val_loss: 7.9884e-05 - val_mape: 0.4542\n",
      "Epoch 46/2000\n",
      "\u001b[1m381/387\u001b[0m \u001b[32m━━━━━━━━━━━━━━━━━━━\u001b[0m\u001b[37m━\u001b[0m \u001b[1m0s\u001b[0m 1ms/step - loss: 1.4950e-04 - mape: 0.5306  \n",
      "Epoch 46: val_loss did not improve from 0.00002\n",
      "\u001b[1m387/387\u001b[0m \u001b[32m━━━━━━━━━━━━━━━━━━━━\u001b[0m\u001b[37m\u001b[0m \u001b[1m1s\u001b[0m 1ms/step - loss: 1.5139e-04 - mape: 0.5333 - val_loss: 1.6324e-04 - val_mape: 0.6789\n",
      "Epoch 47/2000\n",
      "\u001b[1m375/387\u001b[0m \u001b[32m━━━━━━━━━━━━━━━━━━━\u001b[0m\u001b[37m━\u001b[0m \u001b[1m0s\u001b[0m 947us/step - loss: 2.3602e-04 - mape: 0.5213\n",
      "Epoch 47: val_loss did not improve from 0.00002\n",
      "\u001b[1m387/387\u001b[0m \u001b[32m━━━━━━━━━━━━━━━━━━━━\u001b[0m\u001b[37m\u001b[0m \u001b[1m1s\u001b[0m 1ms/step - loss: 2.4352e-04 - mape: 0.5280 - val_loss: 4.4510e-05 - val_mape: 0.2667\n",
      "Epoch 48/2000\n",
      "\u001b[1m373/387\u001b[0m \u001b[32m━━━━━━━━━━━━━━━━━━━\u001b[0m\u001b[37m━\u001b[0m \u001b[1m0s\u001b[0m 951us/step - loss: 4.4541e-05 - mape: 0.3020\n",
      "Epoch 48: val_loss did not improve from 0.00002\n",
      "\u001b[1m387/387\u001b[0m \u001b[32m━━━━━━━━━━━━━━━━━━━━\u001b[0m\u001b[37m\u001b[0m \u001b[1m1s\u001b[0m 1ms/step - loss: 4.6277e-05 - mape: 0.3053 - val_loss: 1.2396e-04 - val_mape: 0.5485\n",
      "Epoch 49/2000\n",
      "\u001b[1m365/387\u001b[0m \u001b[32m━━━━━━━━━━━━━━━━━━\u001b[0m\u001b[37m━━\u001b[0m \u001b[1m0s\u001b[0m 975us/step - loss: 2.3964e-04 - mape: 0.6446\n",
      "Epoch 49: val_loss did not improve from 0.00002\n",
      "\u001b[1m387/387\u001b[0m \u001b[32m━━━━━━━━━━━━━━━━━━━━\u001b[0m\u001b[37m\u001b[0m \u001b[1m1s\u001b[0m 1ms/step - loss: 2.4333e-04 - mape: 0.6488 - val_loss: 4.4841e-05 - val_mape: 0.2107\n",
      "Epoch 50/2000\n",
      "\u001b[1m387/387\u001b[0m \u001b[32m━━━━━━━━━━━━━━━━━━━━\u001b[0m\u001b[37m\u001b[0m \u001b[1m0s\u001b[0m 920us/step - loss: 2.8145e-04 - mape: 0.7276\n",
      "Epoch 50: val_loss did not improve from 0.00002\n",
      "\u001b[1m387/387\u001b[0m \u001b[32m━━━━━━━━━━━━━━━━━━━━\u001b[0m\u001b[37m\u001b[0m \u001b[1m1s\u001b[0m 1ms/step - loss: 2.8129e-04 - mape: 0.7273 - val_loss: 8.1417e-05 - val_mape: 0.5164\n",
      "Epoch 51/2000\n",
      "\u001b[1m382/387\u001b[0m \u001b[32m━━━━━━━━━━━━━━━━━━━\u001b[0m\u001b[37m━\u001b[0m \u001b[1m0s\u001b[0m 930us/step - loss: 2.9618e-04 - mape: 0.7787\n",
      "Epoch 51: val_loss did not improve from 0.00002\n",
      "\u001b[1m387/387\u001b[0m \u001b[32m━━━━━━━━━━━━━━━━━━━━\u001b[0m\u001b[37m\u001b[0m \u001b[1m1s\u001b[0m 1ms/step - loss: 2.9746e-04 - mape: 0.7801 - val_loss: 4.7190e-05 - val_mape: 0.3527\n",
      "Epoch 52/2000\n",
      "\u001b[1m369/387\u001b[0m \u001b[32m━━━━━━━━━━━━━━━━━━━\u001b[0m\u001b[37m━\u001b[0m \u001b[1m0s\u001b[0m 961us/step - loss: 4.2243e-04 - mape: 0.8867\n",
      "Epoch 52: val_loss did not improve from 0.00002\n",
      "\u001b[1m387/387\u001b[0m \u001b[32m━━━━━━━━━━━━━━━━━━━━\u001b[0m\u001b[37m\u001b[0m \u001b[1m1s\u001b[0m 1ms/step - loss: 4.2237e-04 - mape: 0.8850 - val_loss: 5.8022e-05 - val_mape: 0.3628\n",
      "Epoch 53/2000\n",
      "\u001b[1m375/387\u001b[0m \u001b[32m━━━━━━━━━━━━━━━━━━━\u001b[0m\u001b[37m━\u001b[0m \u001b[1m0s\u001b[0m 944us/step - loss: 1.4851e-04 - mape: 0.4880\n",
      "Epoch 53: val_loss did not improve from 0.00002\n",
      "\u001b[1m387/387\u001b[0m \u001b[32m━━━━━━━━━━━━━━━━━━━━\u001b[0m\u001b[37m\u001b[0m \u001b[1m1s\u001b[0m 1ms/step - loss: 1.5233e-04 - mape: 0.4948 - val_loss: 4.4570e-04 - val_mape: 1.1982\n",
      "Epoch 54/2000\n",
      "\u001b[1m382/387\u001b[0m \u001b[32m━━━━━━━━━━━━━━━━━━━\u001b[0m\u001b[37m━\u001b[0m \u001b[1m0s\u001b[0m 930us/step - loss: 2.0461e-04 - mape: 0.6016\n",
      "Epoch 54: val_loss did not improve from 0.00002\n",
      "\u001b[1m387/387\u001b[0m \u001b[32m━━━━━━━━━━━━━━━━━━━━\u001b[0m\u001b[37m\u001b[0m \u001b[1m1s\u001b[0m 1ms/step - loss: 2.0591e-04 - mape: 0.6035 - val_loss: 2.0720e-05 - val_mape: 0.1787\n",
      "Epoch 55/2000\n",
      "\u001b[1m339/387\u001b[0m \u001b[32m━━━━━━━━━━━━━━━━━\u001b[0m\u001b[37m━━━\u001b[0m \u001b[1m0s\u001b[0m 896us/step - loss: 2.4260e-04 - mape: 0.5870\n",
      "Epoch 55: val_loss improved from 0.00002 to 0.00001, saving model to ./model/55-0.0000.keras\n",
      "\u001b[1m387/387\u001b[0m \u001b[32m━━━━━━━━━━━━━━━━━━━━\u001b[0m\u001b[37m\u001b[0m \u001b[1m1s\u001b[0m 1ms/step - loss: 2.5685e-04 - mape: 0.6098 - val_loss: 1.4497e-05 - val_mape: 0.0737\n",
      "Epoch 56/2000\n",
      "\u001b[1m380/387\u001b[0m \u001b[32m━━━━━━━━━━━━━━━━━━━\u001b[0m\u001b[37m━\u001b[0m \u001b[1m0s\u001b[0m 939us/step - loss: 1.3829e-04 - mape: 0.3849\n",
      "Epoch 56: val_loss did not improve from 0.00001\n",
      "\u001b[1m387/387\u001b[0m \u001b[32m━━━━━━━━━━━━━━━━━━━━\u001b[0m\u001b[37m\u001b[0m \u001b[1m1s\u001b[0m 1ms/step - loss: 1.4011e-04 - mape: 0.3886 - val_loss: 3.5562e-04 - val_mape: 1.0838\n",
      "Epoch 57/2000\n",
      "\u001b[1m385/387\u001b[0m \u001b[32m━━━━━━━━━━━━━━━━━━━\u001b[0m\u001b[37m━\u001b[0m \u001b[1m0s\u001b[0m 924us/step - loss: 6.2207e-05 - mape: 0.3207\n",
      "Epoch 57: val_loss did not improve from 0.00001\n",
      "\u001b[1m387/387\u001b[0m \u001b[32m━━━━━━━━━━━━━━━━━━━━\u001b[0m\u001b[37m\u001b[0m \u001b[1m1s\u001b[0m 1ms/step - loss: 6.3257e-05 - mape: 0.3221 - val_loss: 2.0321e-04 - val_mape: 0.8212\n",
      "Epoch 58/2000\n",
      "\u001b[1m374/387\u001b[0m \u001b[32m━━━━━━━━━━━━━━━━━━━\u001b[0m\u001b[37m━\u001b[0m \u001b[1m0s\u001b[0m 943us/step - loss: 2.7127e-04 - mape: 0.7459\n",
      "Epoch 58: val_loss did not improve from 0.00001\n",
      "\u001b[1m387/387\u001b[0m \u001b[32m━━━━━━━━━━━━━━━━━━━━\u001b[0m\u001b[37m\u001b[0m \u001b[1m1s\u001b[0m 1ms/step - loss: 2.7367e-04 - mape: 0.7490 - val_loss: 8.7695e-05 - val_mape: 0.5179\n",
      "Epoch 59/2000\n",
      "\u001b[1m387/387\u001b[0m \u001b[32m━━━━━━━━━━━━━━━━━━━━\u001b[0m\u001b[37m\u001b[0m \u001b[1m0s\u001b[0m 915us/step - loss: 2.2102e-04 - mape: 0.5566\n",
      "Epoch 59: val_loss did not improve from 0.00001\n",
      "\u001b[1m387/387\u001b[0m \u001b[32m━━━━━━━━━━━━━━━━━━━━\u001b[0m\u001b[37m\u001b[0m \u001b[1m1s\u001b[0m 1ms/step - loss: 2.2134e-04 - mape: 0.5571 - val_loss: 4.1078e-05 - val_mape: 0.2324\n",
      "Epoch 60/2000\n",
      "\u001b[1m387/387\u001b[0m \u001b[32m━━━━━━━━━━━━━━━━━━━━\u001b[0m\u001b[37m\u001b[0m \u001b[1m0s\u001b[0m 915us/step - loss: 6.7770e-05 - mape: 0.3502\n",
      "Epoch 60: val_loss did not improve from 0.00001\n",
      "\u001b[1m387/387\u001b[0m \u001b[32m━━━━━━━━━━━━━━━━━━━━\u001b[0m\u001b[37m\u001b[0m \u001b[1m1s\u001b[0m 1ms/step - loss: 6.7934e-05 - mape: 0.3505 - val_loss: 5.4638e-05 - val_mape: 0.3557\n",
      "Epoch 61/2000\n",
      "\u001b[1m387/387\u001b[0m \u001b[32m━━━━━━━━━━━━━━━━━━━━\u001b[0m\u001b[37m\u001b[0m \u001b[1m0s\u001b[0m 919us/step - loss: 6.2147e-04 - mape: 0.7149\n",
      "Epoch 61: val_loss did not improve from 0.00001\n",
      "\u001b[1m387/387\u001b[0m \u001b[32m━━━━━━━━━━━━━━━━━━━━\u001b[0m\u001b[37m\u001b[0m \u001b[1m1s\u001b[0m 1ms/step - loss: 6.2233e-04 - mape: 0.7155 - val_loss: 3.3889e-05 - val_mape: 0.1375\n",
      "Epoch 62/2000\n",
      "\u001b[1m381/387\u001b[0m \u001b[32m━━━━━━━━━━━━━━━━━━━\u001b[0m\u001b[37m━\u001b[0m \u001b[1m0s\u001b[0m 936us/step - loss: 5.2484e-05 - mape: 0.2980\n",
      "Epoch 62: val_loss did not improve from 0.00001\n",
      "\u001b[1m387/387\u001b[0m \u001b[32m━━━━━━━━━━━━━━━━━━━━\u001b[0m\u001b[37m\u001b[0m \u001b[1m1s\u001b[0m 1ms/step - loss: 5.2192e-05 - mape: 0.2969 - val_loss: 1.7655e-05 - val_mape: 0.1291\n",
      "Epoch 63/2000\n",
      "\u001b[1m366/387\u001b[0m \u001b[32m━━━━━━━━━━━━━━━━━━\u001b[0m\u001b[37m━━\u001b[0m \u001b[1m0s\u001b[0m 977us/step - loss: 2.6270e-05 - mape: 0.2045\n",
      "Epoch 63: val_loss did not improve from 0.00001\n",
      "\u001b[1m387/387\u001b[0m \u001b[32m━━━━━━━━━━━━━━━━━━━━\u001b[0m\u001b[37m\u001b[0m \u001b[1m1s\u001b[0m 1ms/step - loss: 2.7034e-05 - mape: 0.2073 - val_loss: 4.4155e-05 - val_mape: 0.2053\n",
      "Epoch 64/2000\n",
      "\u001b[1m387/387\u001b[0m \u001b[32m━━━━━━━━━━━━━━━━━━━━\u001b[0m\u001b[37m\u001b[0m \u001b[1m0s\u001b[0m 921us/step - loss: 2.0467e-04 - mape: 0.5643\n",
      "Epoch 64: val_loss did not improve from 0.00001\n",
      "\u001b[1m387/387\u001b[0m \u001b[32m━━━━━━━━━━━━━━━━━━━━\u001b[0m\u001b[37m\u001b[0m \u001b[1m1s\u001b[0m 1ms/step - loss: 2.0475e-04 - mape: 0.5644 - val_loss: 7.6243e-05 - val_mape: 0.4602\n",
      "Epoch 65/2000\n",
      "\u001b[1m377/387\u001b[0m \u001b[32m━━━━━━━━━━━━━━━━━━━\u001b[0m\u001b[37m━\u001b[0m \u001b[1m0s\u001b[0m 941us/step - loss: 7.8584e-04 - mape: 0.8913\n",
      "Epoch 65: val_loss did not improve from 0.00001\n",
      "\u001b[1m387/387\u001b[0m \u001b[32m━━━━━━━━━━━━━━━━━━━━\u001b[0m\u001b[37m\u001b[0m \u001b[1m1s\u001b[0m 1ms/step - loss: 7.9715e-04 - mape: 0.9001 - val_loss: 7.5990e-05 - val_mape: 0.2241\n",
      "Epoch 66/2000\n",
      "\u001b[1m371/387\u001b[0m \u001b[32m━━━━━━━━━━━━━━━━━━━\u001b[0m\u001b[37m━\u001b[0m \u001b[1m0s\u001b[0m 961us/step - loss: 1.9166e-05 - mape: 0.1440\n",
      "Epoch 66: val_loss did not improve from 0.00001\n",
      "\u001b[1m387/387\u001b[0m \u001b[32m━━━━━━━━━━━━━━━━━━━━\u001b[0m\u001b[37m\u001b[0m \u001b[1m1s\u001b[0m 1ms/step - loss: 1.9061e-05 - mape: 0.1437 - val_loss: 1.6780e-05 - val_mape: 0.1589\n",
      "Epoch 67/2000\n",
      "\u001b[1m373/387\u001b[0m \u001b[32m━━━━━━━━━━━━━━━━━━━\u001b[0m\u001b[37m━\u001b[0m \u001b[1m0s\u001b[0m 949us/step - loss: 9.7087e-06 - mape: 0.1011\n",
      "Epoch 67: val_loss did not improve from 0.00001\n",
      "\u001b[1m387/387\u001b[0m \u001b[32m━━━━━━━━━━━━━━━━━━━━\u001b[0m\u001b[37m\u001b[0m \u001b[1m1s\u001b[0m 1ms/step - loss: 1.0515e-05 - mape: 0.1050 - val_loss: 1.8803e-05 - val_mape: 0.1136\n",
      "Epoch 68/2000\n",
      "\u001b[1m377/387\u001b[0m \u001b[32m━━━━━━━━━━━━━━━━━━━\u001b[0m\u001b[37m━\u001b[0m \u001b[1m0s\u001b[0m 942us/step - loss: 2.2515e-05 - mape: 0.1905\n",
      "Epoch 68: val_loss did not improve from 0.00001\n",
      "\u001b[1m387/387\u001b[0m \u001b[32m━━━━━━━━━━━━━━━━━━━━\u001b[0m\u001b[37m\u001b[0m \u001b[1m1s\u001b[0m 1ms/step - loss: 2.4080e-05 - mape: 0.1934 - val_loss: 1.6435e-04 - val_mape: 0.7011\n",
      "Epoch 69/2000\n",
      "\u001b[1m374/387\u001b[0m \u001b[32m━━━━━━━━━━━━━━━━━━━\u001b[0m\u001b[37m━\u001b[0m \u001b[1m0s\u001b[0m 945us/step - loss: 0.0011 - mape: 0.8610    \n",
      "Epoch 69: val_loss did not improve from 0.00001\n",
      "\u001b[1m387/387\u001b[0m \u001b[32m━━━━━━━━━━━━━━━━━━━━\u001b[0m\u001b[37m\u001b[0m \u001b[1m1s\u001b[0m 1ms/step - loss: 0.0011 - mape: 0.8713 - val_loss: 2.7805e-05 - val_mape: 0.1300\n",
      "Epoch 70/2000\n",
      "\u001b[1m362/387\u001b[0m \u001b[32m━━━━━━━━━━━━━━━━━━\u001b[0m\u001b[37m━━\u001b[0m \u001b[1m0s\u001b[0m 985us/step - loss: 2.1919e-05 - mape: 0.1788\n",
      "Epoch 70: val_loss did not improve from 0.00001\n",
      "\u001b[1m387/387\u001b[0m \u001b[32m━━━━━━━━━━━━━━━━━━━━\u001b[0m\u001b[37m\u001b[0m \u001b[1m1s\u001b[0m 1ms/step - loss: 2.2087e-05 - mape: 0.1788 - val_loss: 3.6529e-05 - val_mape: 0.3132\n",
      "Epoch 71/2000\n",
      "\u001b[1m382/387\u001b[0m \u001b[32m━━━━━━━━━━━━━━━━━━━\u001b[0m\u001b[37m━\u001b[0m \u001b[1m0s\u001b[0m 935us/step - loss: 1.6126e-05 - mape: 0.1539\n",
      "Epoch 71: val_loss did not improve from 0.00001\n",
      "\u001b[1m387/387\u001b[0m \u001b[32m━━━━━━━━━━━━━━━━━━━━\u001b[0m\u001b[37m\u001b[0m \u001b[1m1s\u001b[0m 1ms/step - loss: 1.6106e-05 - mape: 0.1537 - val_loss: 5.5046e-05 - val_mape: 0.4265\n",
      "Epoch 72/2000\n",
      "\u001b[1m380/387\u001b[0m \u001b[32m━━━━━━━━━━━━━━━━━━━\u001b[0m\u001b[37m━\u001b[0m \u001b[1m0s\u001b[0m 937us/step - loss: 1.6553e-05 - mape: 0.1583\n",
      "Epoch 72: val_loss did not improve from 0.00001\n",
      "\u001b[1m387/387\u001b[0m \u001b[32m━━━━━━━━━━━━━━━━━━━━\u001b[0m\u001b[37m\u001b[0m \u001b[1m1s\u001b[0m 1ms/step - loss: 1.6572e-05 - mape: 0.1586 - val_loss: 2.1835e-05 - val_mape: 0.1237\n",
      "Epoch 73/2000\n",
      "\u001b[1m373/387\u001b[0m \u001b[32m━━━━━━━━━━━━━━━━━━━\u001b[0m\u001b[37m━\u001b[0m \u001b[1m0s\u001b[0m 957us/step - loss: 5.7745e-05 - mape: 0.2741\n",
      "Epoch 73: val_loss did not improve from 0.00001\n",
      "\u001b[1m387/387\u001b[0m \u001b[32m━━━━━━━━━━━━━━━━━━━━\u001b[0m\u001b[37m\u001b[0m \u001b[1m1s\u001b[0m 1ms/step - loss: 6.2361e-05 - mape: 0.2831 - val_loss: 9.4471e-04 - val_mape: 1.6437\n",
      "Epoch 74/2000\n",
      "\u001b[1m381/387\u001b[0m \u001b[32m━━━━━━━━━━━━━━━━━━━\u001b[0m\u001b[37m━\u001b[0m \u001b[1m0s\u001b[0m 935us/step - loss: 1.4335e-04 - mape: 0.5597\n",
      "Epoch 74: val_loss did not improve from 0.00001\n",
      "\u001b[1m387/387\u001b[0m \u001b[32m━━━━━━━━━━━━━━━━━━━━\u001b[0m\u001b[37m\u001b[0m \u001b[1m1s\u001b[0m 1ms/step - loss: 1.4428e-04 - mape: 0.5606 - val_loss: 0.0011 - val_mape: 1.7589\n",
      "Epoch 75/2000\n",
      "\u001b[1m378/387\u001b[0m \u001b[32m━━━━━━━━━━━━━━━━━━━\u001b[0m\u001b[37m━\u001b[0m \u001b[1m0s\u001b[0m 941us/step - loss: 1.3670e-04 - mape: 0.5514\n",
      "Epoch 75: val_loss did not improve from 0.00001\n",
      "\u001b[1m387/387\u001b[0m \u001b[32m━━━━━━━━━━━━━━━━━━━━\u001b[0m\u001b[37m\u001b[0m \u001b[1m1s\u001b[0m 1ms/step - loss: 1.3736e-04 - mape: 0.5521 - val_loss: 6.2092e-04 - val_mape: 1.3612\n"
     ]
    }
   ],
   "source": [
    "from tensorflow.keras.callbacks import EarlyStopping, ModelCheckpoint\n",
    "\n",
    "model.compile(optimizer ='adam', loss = 'mean_squared_error', metrics=['mape'])\n",
    "early_stopping_cb = EarlyStopping(monitor='val_loss', patience=20)\n",
    "modelpath=\"./model/{epoch:02d}-{val_loss:.4f}.keras\"\n",
    "\n",
    "checkpoint_cb = ModelCheckpoint(filepath=modelpath, monitor='val_loss', verbose=1, save_best_only=True)\n",
    "history = model.fit(X_train, y_train, validation_split=0.25, epochs=2000, batch_size=32, callbacks=[early_stopping_cb, checkpoint_cb])"
   ]
  },
  {
   "cell_type": "code",
   "execution_count": 105,
   "id": "WwQ0NJqhGJbI",
   "metadata": {
    "colab": {
     "base_uri": "https://localhost:8080/"
    },
    "executionInfo": {
     "elapsed": 40,
     "status": "ok",
     "timestamp": 1724081343058,
     "user": {
      "displayName": "김도형",
      "userId": "11727377734619343247"
     },
     "user_tz": -540
    },
    "id": "WwQ0NJqhGJbI",
    "outputId": "ff4df313-9e3e-4242-c4d9-a2bbfdcf5131"
   },
   "outputs": [
    {
     "name": "stdout",
     "output_type": "stream",
     "text": [
      "74\n"
     ]
    }
   ],
   "source": [
    "print(early_stopping_cb.stopped_epoch)"
   ]
  },
  {
   "cell_type": "markdown",
   "id": "HLDc_ZmHc_Nh",
   "metadata": {
    "id": "HLDc_ZmHc_Nh"
   },
   "source": [
    "### 훈련(학습)과정 모니터링"
   ]
  },
  {
   "cell_type": "code",
   "execution_count": 106,
   "id": "kKluhcQpVptY",
   "metadata": {
    "colab": {
     "base_uri": "https://localhost:8080/",
     "height": 424
    },
    "executionInfo": {
     "elapsed": 4,
     "status": "ok",
     "timestamp": 1724081343058,
     "user": {
      "displayName": "김도형",
      "userId": "11727377734619343247"
     },
     "user_tz": -540
    },
    "id": "kKluhcQpVptY",
    "outputId": "cab3634d-cead-4df7-db8c-50baecc9fb75"
   },
   "outputs": [
    {
     "data": {
      "text/html": [
       "<div>\n",
       "<style scoped>\n",
       "    .dataframe tbody tr th:only-of-type {\n",
       "        vertical-align: middle;\n",
       "    }\n",
       "\n",
       "    .dataframe tbody tr th {\n",
       "        vertical-align: top;\n",
       "    }\n",
       "\n",
       "    .dataframe thead th {\n",
       "        text-align: right;\n",
       "    }\n",
       "</style>\n",
       "<table border=\"1\" class=\"dataframe\">\n",
       "  <thead>\n",
       "    <tr style=\"text-align: right;\">\n",
       "      <th></th>\n",
       "      <th>loss</th>\n",
       "      <th>mape</th>\n",
       "      <th>val_loss</th>\n",
       "      <th>val_mape</th>\n",
       "    </tr>\n",
       "  </thead>\n",
       "  <tbody>\n",
       "    <tr>\n",
       "      <th>0</th>\n",
       "      <td>0.322668</td>\n",
       "      <td>22.197742</td>\n",
       "      <td>0.048566</td>\n",
       "      <td>9.315054</td>\n",
       "    </tr>\n",
       "    <tr>\n",
       "      <th>1</th>\n",
       "      <td>0.004974</td>\n",
       "      <td>2.720604</td>\n",
       "      <td>0.000976</td>\n",
       "      <td>1.161652</td>\n",
       "    </tr>\n",
       "    <tr>\n",
       "      <th>2</th>\n",
       "      <td>0.000783</td>\n",
       "      <td>1.064182</td>\n",
       "      <td>0.000490</td>\n",
       "      <td>0.802959</td>\n",
       "    </tr>\n",
       "    <tr>\n",
       "      <th>3</th>\n",
       "      <td>0.000500</td>\n",
       "      <td>0.867006</td>\n",
       "      <td>0.000304</td>\n",
       "      <td>0.632347</td>\n",
       "    </tr>\n",
       "    <tr>\n",
       "      <th>4</th>\n",
       "      <td>0.000331</td>\n",
       "      <td>0.717369</td>\n",
       "      <td>0.000191</td>\n",
       "      <td>0.466205</td>\n",
       "    </tr>\n",
       "    <tr>\n",
       "      <th>...</th>\n",
       "      <td>...</td>\n",
       "      <td>...</td>\n",
       "      <td>...</td>\n",
       "      <td>...</td>\n",
       "    </tr>\n",
       "    <tr>\n",
       "      <th>70</th>\n",
       "      <td>0.000015</td>\n",
       "      <td>0.142150</td>\n",
       "      <td>0.000055</td>\n",
       "      <td>0.426451</td>\n",
       "    </tr>\n",
       "    <tr>\n",
       "      <th>71</th>\n",
       "      <td>0.000018</td>\n",
       "      <td>0.170653</td>\n",
       "      <td>0.000022</td>\n",
       "      <td>0.123689</td>\n",
       "    </tr>\n",
       "    <tr>\n",
       "      <th>72</th>\n",
       "      <td>0.000188</td>\n",
       "      <td>0.526146</td>\n",
       "      <td>0.000945</td>\n",
       "      <td>1.643728</td>\n",
       "    </tr>\n",
       "    <tr>\n",
       "      <th>73</th>\n",
       "      <td>0.000197</td>\n",
       "      <td>0.613505</td>\n",
       "      <td>0.001074</td>\n",
       "      <td>1.758934</td>\n",
       "    </tr>\n",
       "    <tr>\n",
       "      <th>74</th>\n",
       "      <td>0.000164</td>\n",
       "      <td>0.580759</td>\n",
       "      <td>0.000621</td>\n",
       "      <td>1.361198</td>\n",
       "    </tr>\n",
       "  </tbody>\n",
       "</table>\n",
       "<p>75 rows × 4 columns</p>\n",
       "</div>"
      ],
      "text/plain": [
       "        loss       mape  val_loss  val_mape\n",
       "0   0.322668  22.197742  0.048566  9.315054\n",
       "1   0.004974   2.720604  0.000976  1.161652\n",
       "2   0.000783   1.064182  0.000490  0.802959\n",
       "3   0.000500   0.867006  0.000304  0.632347\n",
       "4   0.000331   0.717369  0.000191  0.466205\n",
       "..       ...        ...       ...       ...\n",
       "70  0.000015   0.142150  0.000055  0.426451\n",
       "71  0.000018   0.170653  0.000022  0.123689\n",
       "72  0.000188   0.526146  0.000945  1.643728\n",
       "73  0.000197   0.613505  0.001074  1.758934\n",
       "74  0.000164   0.580759  0.000621  1.361198\n",
       "\n",
       "[75 rows x 4 columns]"
      ]
     },
     "execution_count": 106,
     "metadata": {},
     "output_type": "execute_result"
    }
   ],
   "source": [
    "hist_df = pd.DataFrame(history.history)\n",
    "hist_df"
   ]
  },
  {
   "cell_type": "markdown",
   "id": "sOEmRFUrXKNx",
   "metadata": {
    "id": "sOEmRFUrXKNx"
   },
   "source": [
    "### 모델 평가(시험, Test) ; 주택 가격 예측 실행"
   ]
  },
  {
   "cell_type": "code",
   "execution_count": 108,
   "id": "ecc81a1d",
   "metadata": {
    "colab": {
     "base_uri": "https://localhost:8080/"
    },
    "executionInfo": {
     "elapsed": 1026,
     "status": "ok",
     "timestamp": 1724081355709,
     "user": {
      "displayName": "김도형",
      "userId": "11727377734619343247"
     },
     "user_tz": -540
    },
    "id": "ecc81a1d",
    "outputId": "e3edb32f-f3bf-4c8b-e8cc-65e89b8ce53f",
    "scrolled": true
   },
   "outputs": [
    {
     "name": "stdout",
     "output_type": "stream",
     "text": [
      "\u001b[1m129/129\u001b[0m \u001b[32m━━━━━━━━━━━━━━━━━━━━\u001b[0m\u001b[37m\u001b[0m \u001b[1m0s\u001b[0m 706us/step\n",
      "01 : 실제가격: 3.55, 예상가격: 3.58\n",
      "02 : 실제가격: 0.71, 예상가격: 0.73\n",
      "03 : 실제가격: 2.29, 예상가격: 2.33\n",
      "04 : 실제가격: 1.12, 예상가격: 1.15\n",
      "05 : 실제가격: 2.25, 예상가격: 2.28\n",
      "06 : 실제가격: 2.63, 예상가격: 2.65\n",
      "07 : 실제가격: 2.27, 예상가격: 2.28\n",
      "08 : 실제가격: 1.66, 예상가격: 1.68\n",
      "09 : 실제가격: 1.18, 예상가격: 1.20\n",
      "10 : 실제가격: 1.56, 예상가격: 1.59\n",
      "11 : 실제가격: 2.94, 예상가격: 2.97\n",
      "12 : 실제가격: 0.97, 예상가격: 0.99\n",
      "13 : 실제가격: 0.64, 예상가격: 0.66\n",
      "14 : 실제가격: 3.15, 예상가격: 3.18\n",
      "15 : 실제가격: 0.92, 예상가격: 0.94\n",
      "16 : 실제가격: 1.17, 예상가격: 1.19\n",
      "17 : 실제가격: 4.85, 예상가격: 4.88\n",
      "18 : 실제가격: 1.42, 예상가격: 1.44\n",
      "19 : 실제가격: 1.89, 예상가격: 1.91\n",
      "20 : 실제가격: 2.29, 예상가격: 2.32\n",
      "21 : 실제가격: 0.71, 예상가격: 0.73\n",
      "22 : 실제가격: 1.08, 예상가격: 1.10\n",
      "23 : 실제가격: 0.56, 예상가격: 0.58\n",
      "24 : 실제가격: 1.74, 예상가격: 1.77\n",
      "25 : 실제가격: 2.45, 예상가격: 2.48\n",
      "26 : 실제가격: 0.93, 예상가격: 0.94\n",
      "27 : 실제가격: 1.02, 예상가격: 1.04\n",
      "28 : 실제가격: 2.56, 예상가격: 2.58\n",
      "29 : 실제가격: 4.72, 예상가격: 4.77\n",
      "30 : 실제가격: 1.23, 예상가격: 1.25\n",
      "31 : 실제가격: 0.64, 예상가격: 0.66\n",
      "32 : 실제가격: 1.28, 예상가격: 1.30\n",
      "33 : 실제가격: 1.96, 예상가격: 1.98\n",
      "34 : 실제가격: 0.65, 예상가격: 0.66\n",
      "35 : 실제가격: 2.77, 예상가격: 2.78\n",
      "36 : 실제가격: 0.88, 예상가격: 0.90\n",
      "37 : 실제가격: 0.84, 예상가격: 0.86\n",
      "38 : 실제가격: 2.04, 예상가격: 2.07\n",
      "39 : 실제가격: 2.11, 예상가격: 2.13\n",
      "40 : 실제가격: 0.59, 예상가격: 0.59\n",
      "41 : 실제가격: 0.59, 예상가격: 0.60\n",
      "42 : 실제가격: 1.56, 예상가격: 1.58\n",
      "43 : 실제가격: 2.46, 예상가격: 2.49\n",
      "44 : 실제가격: 5.00, 예상가격: 5.04\n",
      "45 : 실제가격: 0.69, 예상가격: 0.71\n",
      "46 : 실제가격: 1.70, 예상가격: 1.73\n",
      "47 : 실제가격: 1.94, 예상가격: 1.96\n",
      "48 : 실제가격: 2.00, 예상가격: 2.01\n",
      "49 : 실제가격: 2.07, 예상가격: 2.09\n",
      "50 : 실제가격: 0.54, 예상가격: 0.56\n"
     ]
    }
   ],
   "source": [
    "real_prices =[]\n",
    "pred_prices = []\n",
    "X_num = []\n",
    "\n",
    "n_iter = 0\n",
    "Y_prediction = model.predict(X_test).flatten()\n",
    "for i in range(50):\n",
    "    real = y_test[i]\n",
    "    prediction = Y_prediction[i]\n",
    "    print(\"{:02d} : 실제가격: {:.2f}, 예상가격: {:.2f}\".format(i+1, real, prediction))\n",
    "    real_prices.append(real)\n",
    "    pred_prices.append(prediction)\n",
    "    n_iter = n_iter + 1\n",
    "    X_num.append(n_iter)"
   ]
  }
 ],
 "metadata": {
  "colab": {
   "provenance": []
  },
  "kernelspec": {
   "display_name": "Python [conda env:base] *",
   "language": "python",
   "name": "conda-base-py"
  },
  "language_info": {
   "codemirror_mode": {
    "name": "ipython",
    "version": 3
   },
   "file_extension": ".py",
   "mimetype": "text/x-python",
   "name": "python",
   "nbconvert_exporter": "python",
   "pygments_lexer": "ipython3",
   "version": "3.12.7"
  }
 },
 "nbformat": 4,
 "nbformat_minor": 5
}
